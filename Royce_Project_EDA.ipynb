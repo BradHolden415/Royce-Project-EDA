{
  "nbformat": 4,
  "nbformat_minor": 0,
  "metadata": {
    "colab": {
      "provenance": [],
      "authorship_tag": "ABX9TyMARreOfkFKDUFvIVGpsV/G",
      "include_colab_link": true
    },
    "kernelspec": {
      "name": "python3",
      "display_name": "Python 3"
    },
    "language_info": {
      "name": "python"
    }
  },
  "cells": [
    {
      "cell_type": "markdown",
      "metadata": {
        "id": "view-in-github",
        "colab_type": "text"
      },
      "source": [
        "<a href=\"https://colab.research.google.com/github/BradHolden415/UT-School-Funding-Fragmentation-Project/blob/main/Royce_Project_EDA.ipynb\" target=\"_parent\"><img src=\"https://colab.research.google.com/assets/colab-badge.svg\" alt=\"Open In Colab\"/></a>"
      ]
    },
    {
      "cell_type": "code",
      "execution_count": null,
      "metadata": {
        "id": "G8RiZ7uEM0d1"
      },
      "outputs": [],
      "source": [
        "import numpy as np\n",
        "import pandas as pd\n",
        "import matplotlib.pyplot as plt\n",
        "import seaborn as sns"
      ]
    },
    {
      "cell_type": "code",
      "execution_count": null,
      "metadata": {
        "colab": {
          "base_uri": "https://localhost:8080/"
        },
        "id": "54qKgbe-EBdG",
        "outputId": "314eff91-c563-436e-b312-9709b2155736"
      },
      "outputs": [
        {
          "output_type": "stream",
          "name": "stdout",
          "text": [
            "Mounted at /content/drive\n"
          ]
        }
      ],
      "source": [
        "from google.colab import drive\n",
        "drive.mount('/content/drive')"
      ]
    },
    {
      "cell_type": "code",
      "execution_count": null,
      "metadata": {
        "colab": {
          "base_uri": "https://localhost:8080/",
          "height": 363
        },
        "id": "tF_xjSUhNqFk",
        "outputId": "95a2ce47-5cad-4c82-bea6-3115d3eeca65"
      },
      "outputs": [
        {
          "output_type": "error",
          "ename": "FileNotFoundError",
          "evalue": "ignored",
          "traceback": [
            "\u001b[0;31m---------------------------------------------------------------------------\u001b[0m",
            "\u001b[0;31mFileNotFoundError\u001b[0m                         Traceback (most recent call last)",
            "\u001b[0;32m<ipython-input-3-e22f90b92152>\u001b[0m in \u001b[0;36m<cell line: 1>\u001b[0;34m()\u001b[0m\n\u001b[0;32m----> 1\u001b[0;31m \u001b[0mdf\u001b[0m \u001b[0;34m=\u001b[0m \u001b[0mpd\u001b[0m\u001b[0;34m.\u001b[0m\u001b[0mread_csv\u001b[0m\u001b[0;34m(\u001b[0m\u001b[0;34m'/content/drive/MyDrive/Clear Learning Partners/Database/royce/beginning_database.csv'\u001b[0m\u001b[0;34m)\u001b[0m\u001b[0;34m\u001b[0m\u001b[0;34m\u001b[0m\u001b[0m\n\u001b[0m",
            "\u001b[0;32m/usr/local/lib/python3.9/dist-packages/pandas/util/_decorators.py\u001b[0m in \u001b[0;36mwrapper\u001b[0;34m(*args, **kwargs)\u001b[0m\n\u001b[1;32m    309\u001b[0m                     \u001b[0mstacklevel\u001b[0m\u001b[0;34m=\u001b[0m\u001b[0mstacklevel\u001b[0m\u001b[0;34m,\u001b[0m\u001b[0;34m\u001b[0m\u001b[0;34m\u001b[0m\u001b[0m\n\u001b[1;32m    310\u001b[0m                 )\n\u001b[0;32m--> 311\u001b[0;31m             \u001b[0;32mreturn\u001b[0m \u001b[0mfunc\u001b[0m\u001b[0;34m(\u001b[0m\u001b[0;34m*\u001b[0m\u001b[0margs\u001b[0m\u001b[0;34m,\u001b[0m \u001b[0;34m**\u001b[0m\u001b[0mkwargs\u001b[0m\u001b[0;34m)\u001b[0m\u001b[0;34m\u001b[0m\u001b[0;34m\u001b[0m\u001b[0m\n\u001b[0m\u001b[1;32m    312\u001b[0m \u001b[0;34m\u001b[0m\u001b[0m\n\u001b[1;32m    313\u001b[0m         \u001b[0;32mreturn\u001b[0m \u001b[0mwrapper\u001b[0m\u001b[0;34m\u001b[0m\u001b[0;34m\u001b[0m\u001b[0m\n",
            "\u001b[0;32m/usr/local/lib/python3.9/dist-packages/pandas/io/parsers/readers.py\u001b[0m in \u001b[0;36mread_csv\u001b[0;34m(filepath_or_buffer, sep, delimiter, header, names, index_col, usecols, squeeze, prefix, mangle_dupe_cols, dtype, engine, converters, true_values, false_values, skipinitialspace, skiprows, skipfooter, nrows, na_values, keep_default_na, na_filter, verbose, skip_blank_lines, parse_dates, infer_datetime_format, keep_date_col, date_parser, dayfirst, cache_dates, iterator, chunksize, compression, thousands, decimal, lineterminator, quotechar, quoting, doublequote, escapechar, comment, encoding, encoding_errors, dialect, error_bad_lines, warn_bad_lines, on_bad_lines, delim_whitespace, low_memory, memory_map, float_precision, storage_options)\u001b[0m\n\u001b[1;32m    676\u001b[0m     \u001b[0mkwds\u001b[0m\u001b[0;34m.\u001b[0m\u001b[0mupdate\u001b[0m\u001b[0;34m(\u001b[0m\u001b[0mkwds_defaults\u001b[0m\u001b[0;34m)\u001b[0m\u001b[0;34m\u001b[0m\u001b[0;34m\u001b[0m\u001b[0m\n\u001b[1;32m    677\u001b[0m \u001b[0;34m\u001b[0m\u001b[0m\n\u001b[0;32m--> 678\u001b[0;31m     \u001b[0;32mreturn\u001b[0m \u001b[0m_read\u001b[0m\u001b[0;34m(\u001b[0m\u001b[0mfilepath_or_buffer\u001b[0m\u001b[0;34m,\u001b[0m \u001b[0mkwds\u001b[0m\u001b[0;34m)\u001b[0m\u001b[0;34m\u001b[0m\u001b[0;34m\u001b[0m\u001b[0m\n\u001b[0m\u001b[1;32m    679\u001b[0m \u001b[0;34m\u001b[0m\u001b[0m\n\u001b[1;32m    680\u001b[0m \u001b[0;34m\u001b[0m\u001b[0m\n",
            "\u001b[0;32m/usr/local/lib/python3.9/dist-packages/pandas/io/parsers/readers.py\u001b[0m in \u001b[0;36m_read\u001b[0;34m(filepath_or_buffer, kwds)\u001b[0m\n\u001b[1;32m    573\u001b[0m \u001b[0;34m\u001b[0m\u001b[0m\n\u001b[1;32m    574\u001b[0m     \u001b[0;31m# Create the parser.\u001b[0m\u001b[0;34m\u001b[0m\u001b[0;34m\u001b[0m\u001b[0m\n\u001b[0;32m--> 575\u001b[0;31m     \u001b[0mparser\u001b[0m \u001b[0;34m=\u001b[0m \u001b[0mTextFileReader\u001b[0m\u001b[0;34m(\u001b[0m\u001b[0mfilepath_or_buffer\u001b[0m\u001b[0;34m,\u001b[0m \u001b[0;34m**\u001b[0m\u001b[0mkwds\u001b[0m\u001b[0;34m)\u001b[0m\u001b[0;34m\u001b[0m\u001b[0;34m\u001b[0m\u001b[0m\n\u001b[0m\u001b[1;32m    576\u001b[0m \u001b[0;34m\u001b[0m\u001b[0m\n\u001b[1;32m    577\u001b[0m     \u001b[0;32mif\u001b[0m \u001b[0mchunksize\u001b[0m \u001b[0;32mor\u001b[0m \u001b[0miterator\u001b[0m\u001b[0;34m:\u001b[0m\u001b[0;34m\u001b[0m\u001b[0;34m\u001b[0m\u001b[0m\n",
            "\u001b[0;32m/usr/local/lib/python3.9/dist-packages/pandas/io/parsers/readers.py\u001b[0m in \u001b[0;36m__init__\u001b[0;34m(self, f, engine, **kwds)\u001b[0m\n\u001b[1;32m    930\u001b[0m \u001b[0;34m\u001b[0m\u001b[0m\n\u001b[1;32m    931\u001b[0m         \u001b[0mself\u001b[0m\u001b[0;34m.\u001b[0m\u001b[0mhandles\u001b[0m\u001b[0;34m:\u001b[0m \u001b[0mIOHandles\u001b[0m \u001b[0;34m|\u001b[0m \u001b[0;32mNone\u001b[0m \u001b[0;34m=\u001b[0m \u001b[0;32mNone\u001b[0m\u001b[0;34m\u001b[0m\u001b[0;34m\u001b[0m\u001b[0m\n\u001b[0;32m--> 932\u001b[0;31m         \u001b[0mself\u001b[0m\u001b[0;34m.\u001b[0m\u001b[0m_engine\u001b[0m \u001b[0;34m=\u001b[0m \u001b[0mself\u001b[0m\u001b[0;34m.\u001b[0m\u001b[0m_make_engine\u001b[0m\u001b[0;34m(\u001b[0m\u001b[0mf\u001b[0m\u001b[0;34m,\u001b[0m \u001b[0mself\u001b[0m\u001b[0;34m.\u001b[0m\u001b[0mengine\u001b[0m\u001b[0;34m)\u001b[0m\u001b[0;34m\u001b[0m\u001b[0;34m\u001b[0m\u001b[0m\n\u001b[0m\u001b[1;32m    933\u001b[0m \u001b[0;34m\u001b[0m\u001b[0m\n\u001b[1;32m    934\u001b[0m     \u001b[0;32mdef\u001b[0m \u001b[0mclose\u001b[0m\u001b[0;34m(\u001b[0m\u001b[0mself\u001b[0m\u001b[0;34m)\u001b[0m\u001b[0;34m:\u001b[0m\u001b[0;34m\u001b[0m\u001b[0;34m\u001b[0m\u001b[0m\n",
            "\u001b[0;32m/usr/local/lib/python3.9/dist-packages/pandas/io/parsers/readers.py\u001b[0m in \u001b[0;36m_make_engine\u001b[0;34m(self, f, engine)\u001b[0m\n\u001b[1;32m   1214\u001b[0m             \u001b[0;31m# \"Union[str, PathLike[str], ReadCsvBuffer[bytes], ReadCsvBuffer[str]]\"\u001b[0m\u001b[0;34m\u001b[0m\u001b[0;34m\u001b[0m\u001b[0m\n\u001b[1;32m   1215\u001b[0m             \u001b[0;31m# , \"str\", \"bool\", \"Any\", \"Any\", \"Any\", \"Any\", \"Any\"\u001b[0m\u001b[0;34m\u001b[0m\u001b[0;34m\u001b[0m\u001b[0m\n\u001b[0;32m-> 1216\u001b[0;31m             self.handles = get_handle(  # type: ignore[call-overload]\n\u001b[0m\u001b[1;32m   1217\u001b[0m                 \u001b[0mf\u001b[0m\u001b[0;34m,\u001b[0m\u001b[0;34m\u001b[0m\u001b[0;34m\u001b[0m\u001b[0m\n\u001b[1;32m   1218\u001b[0m                 \u001b[0mmode\u001b[0m\u001b[0;34m,\u001b[0m\u001b[0;34m\u001b[0m\u001b[0;34m\u001b[0m\u001b[0m\n",
            "\u001b[0;32m/usr/local/lib/python3.9/dist-packages/pandas/io/common.py\u001b[0m in \u001b[0;36mget_handle\u001b[0;34m(path_or_buf, mode, encoding, compression, memory_map, is_text, errors, storage_options)\u001b[0m\n\u001b[1;32m    784\u001b[0m         \u001b[0;32mif\u001b[0m \u001b[0mioargs\u001b[0m\u001b[0;34m.\u001b[0m\u001b[0mencoding\u001b[0m \u001b[0;32mand\u001b[0m \u001b[0;34m\"b\"\u001b[0m \u001b[0;32mnot\u001b[0m \u001b[0;32min\u001b[0m \u001b[0mioargs\u001b[0m\u001b[0;34m.\u001b[0m\u001b[0mmode\u001b[0m\u001b[0;34m:\u001b[0m\u001b[0;34m\u001b[0m\u001b[0;34m\u001b[0m\u001b[0m\n\u001b[1;32m    785\u001b[0m             \u001b[0;31m# Encoding\u001b[0m\u001b[0;34m\u001b[0m\u001b[0;34m\u001b[0m\u001b[0m\n\u001b[0;32m--> 786\u001b[0;31m             handle = open(\n\u001b[0m\u001b[1;32m    787\u001b[0m                 \u001b[0mhandle\u001b[0m\u001b[0;34m,\u001b[0m\u001b[0;34m\u001b[0m\u001b[0;34m\u001b[0m\u001b[0m\n\u001b[1;32m    788\u001b[0m                 \u001b[0mioargs\u001b[0m\u001b[0;34m.\u001b[0m\u001b[0mmode\u001b[0m\u001b[0;34m,\u001b[0m\u001b[0;34m\u001b[0m\u001b[0;34m\u001b[0m\u001b[0m\n",
            "\u001b[0;31mFileNotFoundError\u001b[0m: [Errno 2] No such file or directory: '/content/drive/MyDrive/Clear Learning Partners/Database/royce/beginning_database.csv'"
          ]
        }
      ],
      "source": [
        "df = pd.read_csv('/content/drive/MyDrive/Clear Learning Partners/Database/royce/beginning_database.csv')"
      ]
    },
    {
      "cell_type": "code",
      "execution_count": null,
      "metadata": {
        "id": "LX7-TBaofWNO",
        "colab": {
          "base_uri": "https://localhost:8080/"
        },
        "outputId": "acd93889-7c45-4afc-e82b-f49924d05c38"
      },
      "outputs": [
        {
          "output_type": "execute_result",
          "data": {
            "text/plain": [
              "<bound method DataFrame.info of          Unnamed: 0            LEA_x school_ID school_num         school_x  \\\n",
              "0                 0  ALPINE DISTRICT         1          1  ALPINE DISTRICT   \n",
              "1                 1  ALPINE DISTRICT         1          1  ALPINE DISTRICT   \n",
              "2                 2  ALPINE DISTRICT         1          1  ALPINE DISTRICT   \n",
              "3                 3  ALPINE DISTRICT         1          1  ALPINE DISTRICT   \n",
              "4                 4  ALPINE DISTRICT         1          1  ALPINE DISTRICT   \n",
              "...             ...              ...       ...        ...              ...   \n",
              "1000297     1000297  SUCCESS ACADEMY       710        710      SUCCESS DSU   \n",
              "1000298     1000298  SUCCESS ACADEMY       710        710      SUCCESS DSU   \n",
              "1000299     1000299  SUCCESS ACADEMY       710        710      SUCCESS DSU   \n",
              "1000300     1000300  SUCCESS ACADEMY       710        710      SUCCESS DSU   \n",
              "1000301     1000301  SUCCESS ACADEMY       710        710      SUCCESS DSU   \n",
              "\n",
              "         fund  function  program          amt    year  revenue    LEA_ID  \\\n",
              "0        10.0    1110.0      5.0  30714587.17  2016.0     True     122.0   \n",
              "1        10.0    1111.0      5.0   1897475.78  2016.0     True     122.0   \n",
              "2        10.0    1112.0      5.0  23690571.60  2016.0     True     122.0   \n",
              "3        10.0    1113.0      5.0   1463548.44  2016.0     True     122.0   \n",
              "4        10.0    1114.0      5.0  12062125.79  2016.0     True     122.0   \n",
              "...       ...       ...      ...          ...     ...      ...       ...   \n",
              "1000297  10.0    2400.0      5.0      7212.54  2021.0    False  165608.0   \n",
              "1000298  10.0    2400.0      5.0       259.92  2021.0    False  165608.0   \n",
              "1000299  10.0    2400.0      5.0      2542.53  2021.0    False  165608.0   \n",
              "1000300  10.0    2500.0     50.0       590.04  2021.0    False  165608.0   \n",
              "1000301  10.0    2500.0     50.0        19.99  2021.0    False  165608.0   \n",
              "\n",
              "                   LEA_y         school_y  test  ENGLISH LANGUAGE ARTS  \\\n",
              "0        ALPINE DISTRICT  ALPINE DISTRICT  SAGE               0.487232   \n",
              "1        ALPINE DISTRICT  ALPINE DISTRICT  SAGE               0.487232   \n",
              "2        ALPINE DISTRICT  ALPINE DISTRICT  SAGE               0.487232   \n",
              "3        ALPINE DISTRICT  ALPINE DISTRICT  SAGE               0.487232   \n",
              "4        ALPINE DISTRICT  ALPINE DISTRICT  SAGE               0.487232   \n",
              "...                  ...              ...   ...                    ...   \n",
              "1000297  SUCCESS ACADEMY      SUCCESS DSU  RISE               0.673077   \n",
              "1000298  SUCCESS ACADEMY      SUCCESS DSU  RISE               0.673077   \n",
              "1000299  SUCCESS ACADEMY      SUCCESS DSU  RISE               0.673077   \n",
              "1000300  SUCCESS ACADEMY      SUCCESS DSU  RISE               0.673077   \n",
              "1000301  SUCCESS ACADEMY      SUCCESS DSU  RISE               0.673077   \n",
              "\n",
              "         MATHEMATICS   SCIENCE  \n",
              "0           0.532894  0.555292  \n",
              "1           0.532894  0.555292  \n",
              "2           0.532894  0.555292  \n",
              "3           0.532894  0.555292  \n",
              "4           0.532894  0.555292  \n",
              "...              ...       ...  \n",
              "1000297          NaN  0.634615  \n",
              "1000298          NaN  0.634615  \n",
              "1000299          NaN  0.634615  \n",
              "1000300          NaN  0.634615  \n",
              "1000301          NaN  0.634615  \n",
              "\n",
              "[1000302 rows x 18 columns]>"
            ]
          },
          "metadata": {},
          "execution_count": 40
        }
      ],
      "source": [
        "df.info"
      ]
    },
    {
      "cell_type": "code",
      "execution_count": null,
      "metadata": {
        "id": "wUzGOQykNtLy"
      },
      "outputs": [],
      "source": [
        "categories = ['year', 'LEA_ID']\n",
        "for col in categories:\n",
        "    df[col] = df[col].astype('category')"
      ]
    },
    {
      "cell_type": "code",
      "execution_count": null,
      "metadata": {
        "id": "qrbn9xC1Nuzu"
      },
      "outputs": [],
      "source": [
        "del df['LEA_y']\n",
        "del df['school_y']\n",
        "del df['Unnamed: 0']\n",
        "\n",
        "# removing rows that are completely blank\n",
        "df.dropna(axis = 0, how = 'all', inplace = True)"
      ]
    },
    {
      "cell_type": "code",
      "execution_count": null,
      "metadata": {
        "id": "hN6SUqMYJMvI"
      },
      "outputs": [],
      "source": [
        "df = df[df.year != 2020.0]"
      ]
    },
    {
      "cell_type": "code",
      "execution_count": null,
      "metadata": {
        "id": "xI1uWhsDNwhm",
        "colab": {
          "base_uri": "https://localhost:8080/"
        },
        "outputId": "c3224ed5-f658-4155-b378-27717cdeea44"
      },
      "outputs": [
        {
          "output_type": "execute_result",
          "data": {
            "text/plain": [
              "LEA_x                    11.589228\n",
              "school_ID                11.589228\n",
              "school_num               11.589228\n",
              "school_x                 11.589228\n",
              "fund                     11.589228\n",
              "function                 11.589228\n",
              "program                  11.590045\n",
              "amt                      11.589228\n",
              "year                     11.589228\n",
              "revenue                  11.552332\n",
              "LEA_ID                   11.614259\n",
              "test                     12.441363\n",
              "ENGLISH LANGUAGE ARTS    12.700305\n",
              "MATHEMATICS              12.727606\n",
              "SCIENCE                  13.054694\n",
              "dtype: float64"
            ]
          },
          "metadata": {},
          "execution_count": 44
        }
      ],
      "source": [
        "# seems that there are a lot of duplicated rows, \n",
        "# does it make sense to have duplicate rows?\n",
        "sum(df.duplicated())/df.count() * 100"
      ]
    },
    {
      "cell_type": "code",
      "execution_count": null,
      "metadata": {
        "id": "cl3f8fuz5MTg",
        "colab": {
          "base_uri": "https://localhost:8080/"
        },
        "outputId": "16f5d5c3-84cc-49d1-f9b6-565b1801286a"
      },
      "outputs": [
        {
          "output_type": "execute_result",
          "data": {
            "text/plain": [
              "2018.0    40993\n",
              "2017.0    22446\n",
              "2019.0    18921\n",
              "2021.0    14960\n",
              "2016.0     7111\n",
              "2020.0        0\n",
              "Name: year, dtype: int64"
            ]
          },
          "metadata": {},
          "execution_count": 45
        }
      ],
      "source": [
        "df[df.isnull().any(axis=1)]['year'].value_counts()"
      ]
    },
    {
      "cell_type": "code",
      "execution_count": null,
      "metadata": {
        "id": "u6NyygndNx0f",
        "colab": {
          "base_uri": "https://localhost:8080/"
        },
        "outputId": "f9af3ceb-3a4d-4d96-8e27-6c75cd8620b4"
      },
      "outputs": [
        {
          "output_type": "stream",
          "name": "stdout",
          "text": [
            "LEA_x: 0.31836456995516027\n",
            "school_ID: 0.31836456995516027\n",
            "school_num: 0.31836456995516027\n",
            "school_x: 0.31836456995516027\n",
            "fund: 0.31836456995516027\n",
            "function: 0.31836456995516027\n",
            "program: 0.32539003665568067\n",
            "amt: 0.31836456995516027\n",
            "year: 0.31836456995516027\n",
            "revenue: 0.0\n",
            "LEA_ID: 0.5331959464289676\n",
            "test: 7.145762411041568\n",
            "ENGLISH LANGUAGE ARTS: 9.038940806129165\n",
            "MATHEMATICS: 9.23405157432081\n",
            "SCIENCE: 11.508207470659432\n"
          ]
        }
      ],
      "source": [
        "# calculating the null percentage of each column\n",
        "for c in df.columns:\n",
        "    print(str(c) + \": \" + str(df[c].isnull().sum() * 100 / len(df[c])))"
      ]
    },
    {
      "cell_type": "code",
      "execution_count": null,
      "metadata": {
        "id": "oGFtQCsyNzSQ",
        "colab": {
          "base_uri": "https://localhost:8080/",
          "height": 713
        },
        "outputId": "8f8dc23b-9738-48f7-91a0-3861ce6eb9a4"
      },
      "outputs": [
        {
          "output_type": "display_data",
          "data": {
            "text/plain": [
              "<Figure size 720x720 with 1 Axes>"
            ],
            "image/png": "[encoded data removed]"
          },
          "metadata": {
            "needs_background": "light"
          }
        }
      ],
      "source": [
        "# visualizing the presence of null values\n",
        "plt.figure(figsize=(10,10))\n",
        "sns.heatmap(df.isnull(),yticklabels=False,cbar=False,cmap='viridis')\n",
        "plt.show()"
      ]
    },
    {
      "cell_type": "code",
      "execution_count": null,
      "metadata": {
        "id": "mFxfdMPFN1f4",
        "colab": {
          "base_uri": "https://localhost:8080/"
        },
        "outputId": "e8f56b9a-785b-474d-943f-aaa69a587b22"
      },
      "outputs": [
        {
          "output_type": "stream",
          "name": "stdout",
          "text": [
            "2021.0    232176\n",
            "2019.0    196804\n",
            "2018.0    164788\n",
            "2017.0    146753\n",
            "2016.0     68230\n",
            "2020.0         0\n",
            "Name: year, dtype: int64\n",
            "RISE    405918\n",
            "SAGE    347440\n",
            "Name: test, dtype: int64\n"
          ]
        }
      ],
      "source": [
        "# counting the unique values\n",
        "for col in ['year', 'test']:\n",
        "    print(df[col].value_counts())"
      ]
    },
    {
      "cell_type": "code",
      "execution_count": null,
      "metadata": {
        "id": "YECYHRCCN29k",
        "colab": {
          "base_uri": "https://localhost:8080/"
        },
        "outputId": "7ac9e91e-6377-43b9-9f93-6104187315d2"
      },
      "outputs": [
        {
          "output_type": "stream",
          "name": "stdout",
          "text": [
            "                          count          mean           std          min  \\\n",
            "fund                   808751.0     12.611677  8.409294e+00         10.0   \n",
            "function               808751.0   1930.004820  9.287213e+02       1000.0   \n",
            "program                808694.0   3672.935705  3.074932e+03          0.0   \n",
            "amt                    808751.0  90099.942144  1.443461e+06 -126452952.8   \n",
            "ENGLISH LANGUAGE ARTS  737998.0      0.376974  1.282934e-01          0.0   \n",
            "MATHEMATICS            736415.0      0.344045  1.492182e-01          0.0   \n",
            "SCIENCE                717964.0      0.369032  1.463211e-01          0.0   \n",
            "\n",
            "                               25%         50%           75%           max  \n",
            "fund                     10.000000    10.00000     10.000000  7.600000e+01  \n",
            "function               1000.000000  2100.00000   2500.000000  6.400000e+03  \n",
            "program                  50.000000  5315.00000   5805.000000  9.999000e+03  \n",
            "amt                     527.770000  3902.59000  20935.940000  2.199674e+08  \n",
            "ENGLISH LANGUAGE ARTS     0.291402     0.36500      0.455100  8.470590e-01  \n",
            "MATHEMATICS               0.240900     0.31468      0.444932  8.533333e-01  \n",
            "SCIENCE                   0.264000     0.34000      0.477064  8.550000e-01  \n"
          ]
        }
      ],
      "source": [
        "print(df.describe().T)"
      ]
    },
    {
      "cell_type": "code",
      "execution_count": null,
      "metadata": {
        "id": "2UNg549EN5k-",
        "colab": {
          "base_uri": "https://localhost:8080/",
          "height": 295
        },
        "outputId": "204b8ede-7d5c-4a97-e462-bbb5e85df123"
      },
      "outputs": [
        {
          "output_type": "execute_result",
          "data": {
            "text/plain": [
              "<matplotlib.collections.PathCollection at 0x7f1798f06050>"
            ]
          },
          "metadata": {},
          "execution_count": 50
        },
        {
          "output_type": "display_data",
          "data": {
            "text/plain": [
              "<Figure size 432x288 with 1 Axes>"
            ],
            "image/png": "[encoded data removed]"
          },
          "metadata": {
            "needs_background": "light"
          }
        }
      ],
      "source": [
        "# plotting revenue amounts vs math proficiency\n",
        "df_rev = df.loc[df['revenue'] == True]\n",
        "x = np.array(df_rev['amt'])\n",
        "y = np.array(df_rev['MATHEMATICS'])\n",
        "plt.scatter(x, y, s=1, c='b')"
      ]
    },
    {
      "cell_type": "code",
      "execution_count": null,
      "metadata": {
        "id": "geXCzYZbN8c5",
        "colab": {
          "base_uri": "https://localhost:8080/",
          "height": 295
        },
        "outputId": "3323556c-f2fd-4956-a7da-84d0cba164f6"
      },
      "outputs": [
        {
          "output_type": "execute_result",
          "data": {
            "text/plain": [
              "<matplotlib.collections.PathCollection at 0x7f17990d4290>"
            ]
          },
          "metadata": {},
          "execution_count": 51
        },
        {
          "output_type": "display_data",
          "data": {
            "text/plain": [
              "<Figure size 432x288 with 1 Axes>"
            ],
            "image/png": "[encoded data removed]"
          },
          "metadata": {
            "needs_background": "light"
          }
        }
      ],
      "source": [
        "# plotting expense amounts vs math proficiency\n",
        "df_exp = df.loc[df['revenue'] == False]\n",
        "x = np.array(df_exp['amt'])\n",
        "y = np.array(df_exp['MATHEMATICS'])\n",
        "plt.scatter(x, y, s=1, c='b')"
      ]
    },
    {
      "cell_type": "code",
      "execution_count": null,
      "metadata": {
        "id": "s-_rt_ORODJF",
        "colab": {
          "base_uri": "https://localhost:8080/"
        },
        "outputId": "8c3af696-528e-4f44-b23d-c1ede05e2fae"
      },
      "outputs": [
        {
          "output_type": "stream",
          "name": "stderr",
          "text": [
            "/usr/local/lib/python3.7/dist-packages/IPython/core/interactiveshell.py:3326: DtypeWarning: Columns (2,3) have mixed types.Specify dtype option on import or set low_memory=False.\n",
            "  exec(code_obj, self.user_global_ns, self.user_ns)\n"
          ]
        }
      ],
      "source": [
        "df_financial = pd.read_csv('/content/drive/MyDrive/Clear Learning Partners/Database/royce/financial.csv')"
      ]
    },
    {
      "cell_type": "code",
      "execution_count": null,
      "metadata": {
        "id": "mvlnbkEPOFaw"
      },
      "outputs": [],
      "source": [
        "# creating a dataframe that details the amount of unique funds per LEA per year\n",
        "df_financial = df_financial.groupby(['LEA_ID', 'school_ID', 'year', 'revenue'], as_index=False).size()"
      ]
    },
    {
      "cell_type": "code",
      "execution_count": null,
      "metadata": {
        "id": "k_HWHiJpOGxN"
      },
      "outputs": [],
      "source": [
        "# combining this dataframe with educational data\n",
        "df_financial = df_financial.merge(df[['MATHEMATICS', 'SCIENCE', 'ENGLISH LANGUAGE ARTS', 'school_ID', 'year']], how='left', on=['school_ID', 'year'])"
      ]
    },
    {
      "cell_type": "code",
      "execution_count": null,
      "metadata": {
        "id": "eTtSP6uSOJX8"
      },
      "outputs": [],
      "source": [
        "df_financial = df_financial.drop_duplicates()\n",
        "df_financial = df_financial[df_financial['LEA_ID'] != -1.0]\n",
        "df_financial = df_financial[df_financial['year'] != 2020.0]"
      ]
    },
    {
      "cell_type": "code",
      "execution_count": null,
      "metadata": {
        "id": "A-efky_IrvTu",
        "colab": {
          "base_uri": "https://localhost:8080/",
          "height": 206
        },
        "outputId": "7403601f-40dd-4c47-f0ea-6c41bfa3b610"
      },
      "outputs": [
        {
          "output_type": "execute_result",
          "data": {
            "text/plain": [
              "            LEA_ID school_ID    year  revenue  size  MATHEMATICS   SCIENCE  \\\n",
              "22490885  186506.0       01M  2021.0     True    34     0.223022  0.337209   \n",
              "22491261  186579.0       03M  2021.0    False   206     0.233696  0.252033   \n",
              "22491735  186579.0       03M  2021.0     True    31     0.233696  0.252033   \n",
              "22492211  186581.0       04M  2021.0    False   124     0.246667  0.375000   \n",
              "22492501  186581.0       04M  2021.0     True    21     0.246667  0.375000   \n",
              "\n",
              "          ENGLISH LANGUAGE ARTS  \n",
              "22490885               0.290780  \n",
              "22491261               0.252688  \n",
              "22491735               0.252688  \n",
              "22492211               0.335526  \n",
              "22492501               0.335526  "
            ],
            "text/html": [
              "\n",
              "  <div id=\"df-ea03cf00-5417-4c02-a6fc-a6c370c4b402\">\n",
              "    <div class=\"colab-df-container\">\n",
              "      <div>\n",
              "<style scoped>\n",
              "    .dataframe tbody tr th:only-of-type {\n",
              "        vertical-align: middle;\n",
              "    }\n",
              "\n",
              "    .dataframe tbody tr th {\n",
              "        vertical-align: top;\n",
              "    }\n",
              "\n",
              "    .dataframe thead th {\n",
              "        text-align: right;\n",
              "    }\n",
              "</style>\n",
              "<table border=\"1\" class=\"dataframe\">\n",
              "  <thead>\n",
              "    <tr style=\"text-align: right;\">\n",
              "      <th></th>\n",
              "      <th>LEA_ID</th>\n",
              "      <th>school_ID</th>\n",
              "      <th>year</th>\n",
              "      <th>revenue</th>\n",
              "      <th>size</th>\n",
              "      <th>MATHEMATICS</th>\n",
              "      <th>SCIENCE</th>\n",
              "      <th>ENGLISH LANGUAGE ARTS</th>\n",
              "    </tr>\n",
              "  </thead>\n",
              "  <tbody>\n",
              "    <tr>\n",
              "      <th>22490885</th>\n",
              "      <td>186506.0</td>\n",
              "      <td>01M</td>\n",
              "      <td>2021.0</td>\n",
              "      <td>True</td>\n",
              "      <td>34</td>\n",
              "      <td>0.223022</td>\n",
              "      <td>0.337209</td>\n",
              "      <td>0.290780</td>\n",
              "    </tr>\n",
              "    <tr>\n",
              "      <th>22491261</th>\n",
              "      <td>186579.0</td>\n",
              "      <td>03M</td>\n",
              "      <td>2021.0</td>\n",
              "      <td>False</td>\n",
              "      <td>206</td>\n",
              "      <td>0.233696</td>\n",
              "      <td>0.252033</td>\n",
              "      <td>0.252688</td>\n",
              "    </tr>\n",
              "    <tr>\n",
              "      <th>22491735</th>\n",
              "      <td>186579.0</td>\n",
              "      <td>03M</td>\n",
              "      <td>2021.0</td>\n",
              "      <td>True</td>\n",
              "      <td>31</td>\n",
              "      <td>0.233696</td>\n",
              "      <td>0.252033</td>\n",
              "      <td>0.252688</td>\n",
              "    </tr>\n",
              "    <tr>\n",
              "      <th>22492211</th>\n",
              "      <td>186581.0</td>\n",
              "      <td>04M</td>\n",
              "      <td>2021.0</td>\n",
              "      <td>False</td>\n",
              "      <td>124</td>\n",
              "      <td>0.246667</td>\n",
              "      <td>0.375000</td>\n",
              "      <td>0.335526</td>\n",
              "    </tr>\n",
              "    <tr>\n",
              "      <th>22492501</th>\n",
              "      <td>186581.0</td>\n",
              "      <td>04M</td>\n",
              "      <td>2021.0</td>\n",
              "      <td>True</td>\n",
              "      <td>21</td>\n",
              "      <td>0.246667</td>\n",
              "      <td>0.375000</td>\n",
              "      <td>0.335526</td>\n",
              "    </tr>\n",
              "  </tbody>\n",
              "</table>\n",
              "</div>\n",
              "      <button class=\"colab-df-convert\" onclick=\"convertToInteractive('df-ea03cf00-5417-4c02-a6fc-a6c370c4b402')\"\n",
              "              title=\"Convert this dataframe to an interactive table.\"\n",
              "              style=\"display:none;\">\n",
              "        \n",
              "  <svg xmlns=\"http://www.w3.org/2000/svg\" height=\"24px\"viewBox=\"0 0 24 24\"\n",
              "       width=\"24px\">\n",
              "    <path d=\"M0 0h24v24H0V0z\" fill=\"none\"/>\n",
              "    <path d=\"M18.56 5.44l.94 2.06.94-2.06 2.06-.94-2.06-.94-.94-2.06-.94 2.06-2.06.94zm-11 1L8.5 8.5l.94-2.06 2.06-.94-2.06-.94L8.5 2.5l-.94 2.06-2.06.94zm10 10l.94 2.06.94-2.06 2.06-.94-2.06-.94-.94-2.06-.94 2.06-2.06.94z\"/><path d=\"M17.41 7.96l-1.37-1.37c-.4-.4-.92-.59-1.43-.59-.52 0-1.04.2-1.43.59L10.3 9.45l-7.72 7.72c-.78.78-.78 2.05 0 2.83L4 21.41c.39.39.9.59 1.41.59.51 0 1.02-.2 1.41-.59l7.78-7.78 2.81-2.81c.8-.78.8-2.07 0-2.86zM5.41 20L4 18.59l7.72-7.72 1.47 1.35L5.41 20z\"/>\n",
              "  </svg>\n",
              "      </button>\n",
              "      \n",
              "  <style>\n",
              "    .colab-df-container {\n",
              "      display:flex;\n",
              "      flex-wrap:wrap;\n",
              "      gap: 12px;\n",
              "    }\n",
              "\n",
              "    .colab-df-convert {\n",
              "      background-color: #E8F0FE;\n",
              "      border: none;\n",
              "      border-radius: 50%;\n",
              "      cursor: pointer;\n",
              "      display: none;\n",
              "      fill: #1967D2;\n",
              "      height: 32px;\n",
              "      padding: 0 0 0 0;\n",
              "      width: 32px;\n",
              "    }\n",
              "\n",
              "    .colab-df-convert:hover {\n",
              "      background-color: #E2EBFA;\n",
              "      box-shadow: 0px 1px 2px rgba(60, 64, 67, 0.3), 0px 1px 3px 1px rgba(60, 64, 67, 0.15);\n",
              "      fill: #174EA6;\n",
              "    }\n",
              "\n",
              "    [theme=dark] .colab-df-convert {\n",
              "      background-color: #3B4455;\n",
              "      fill: #D2E3FC;\n",
              "    }\n",
              "\n",
              "    [theme=dark] .colab-df-convert:hover {\n",
              "      background-color: #434B5C;\n",
              "      box-shadow: 0px 1px 3px 1px rgba(0, 0, 0, 0.15);\n",
              "      filter: drop-shadow(0px 1px 2px rgba(0, 0, 0, 0.3));\n",
              "      fill: #FFFFFF;\n",
              "    }\n",
              "  </style>\n",
              "\n",
              "      <script>\n",
              "        const buttonEl =\n",
              "          document.querySelector('#df-ea03cf00-5417-4c02-a6fc-a6c370c4b402 button.colab-df-convert');\n",
              "        buttonEl.style.display =\n",
              "          google.colab.kernel.accessAllowed ? 'block' : 'none';\n",
              "\n",
              "        async function convertToInteractive(key) {\n",
              "          const element = document.querySelector('#df-ea03cf00-5417-4c02-a6fc-a6c370c4b402');\n",
              "          const dataTable =\n",
              "            await google.colab.kernel.invokeFunction('convertToInteractive',\n",
              "                                                     [key], {});\n",
              "          if (!dataTable) return;\n",
              "\n",
              "          const docLinkHtml = 'Like what you see? Visit the ' +\n",
              "            '<a target=\"_blank\" href=https://colab.research.google.com/notebooks/data_table.ipynb>data table notebook</a>'\n",
              "            + ' to learn more about interactive tables.';\n",
              "          element.innerHTML = '';\n",
              "          dataTable['output_type'] = 'display_data';\n",
              "          await google.colab.output.renderOutput(dataTable, element);\n",
              "          const docLink = document.createElement('div');\n",
              "          docLink.innerHTML = docLinkHtml;\n",
              "          element.appendChild(docLink);\n",
              "        }\n",
              "      </script>\n",
              "    </div>\n",
              "  </div>\n",
              "  "
            ]
          },
          "metadata": {},
          "execution_count": 56
        }
      ],
      "source": [
        "df_financial.tail()"
      ]
    },
    {
      "cell_type": "code",
      "execution_count": null,
      "metadata": {
        "id": "U3VWH3PnOU5q",
        "colab": {
          "base_uri": "https://localhost:8080/",
          "height": 282
        },
        "outputId": "9ad68996-4302-467f-ea74-167cb62d7fcb"
      },
      "outputs": [
        {
          "output_type": "execute_result",
          "data": {
            "text/plain": [
              "<matplotlib.collections.PathCollection at 0x7f179833a090>"
            ]
          },
          "metadata": {},
          "execution_count": 57
        },
        {
          "output_type": "display_data",
          "data": {
            "text/plain": [
              "<Figure size 432x288 with 1 Axes>"
            ],
            "image/png": "[encoded data removed]"
          },
          "metadata": {
            "needs_background": "light"
          }
        }
      ],
      "source": [
        "df_financial_rev = df_financial.loc[df_financial['revenue'] == True]\n",
        "df_financial_exp = df_financial.loc[df_financial['revenue'] == False]\n",
        "# plotting the amount of funds vs math proficiency\n",
        "x = np.array(df_financial_rev['size'])\n",
        "y = np.array(df_financial_rev['MATHEMATICS'])\n",
        "plt.scatter(x, y, s=1, c='b')"
      ]
    },
    {
      "cell_type": "code",
      "execution_count": null,
      "metadata": {
        "id": "qAYk2YMgOWKI",
        "colab": {
          "base_uri": "https://localhost:8080/",
          "height": 282
        },
        "outputId": "868c7f0e-f38b-438a-8eca-11fd391e2653"
      },
      "outputs": [
        {
          "output_type": "execute_result",
          "data": {
            "text/plain": [
              "<matplotlib.collections.PathCollection at 0x7f179833ae50>"
            ]
          },
          "metadata": {},
          "execution_count": 58
        },
        {
          "output_type": "display_data",
          "data": {
            "text/plain": [
              "<Figure size 432x288 with 1 Axes>"
            ],
            "image/png": "[encoded data removed]"
          },
          "metadata": {
            "needs_background": "light"
          }
        }
      ],
      "source": [
        "x = np.array(df_financial_rev['size'])\n",
        "y = np.array(df_financial_rev['ENGLISH LANGUAGE ARTS'])\n",
        "plt.scatter(x, y, s=1, c='b')"
      ]
    },
    {
      "cell_type": "code",
      "execution_count": null,
      "metadata": {
        "id": "gKYzJ5C_OZQu",
        "colab": {
          "base_uri": "https://localhost:8080/",
          "height": 282
        },
        "outputId": "cb212449-a860-4fca-b9be-c96b2b560f7d"
      },
      "outputs": [
        {
          "output_type": "execute_result",
          "data": {
            "text/plain": [
              "<matplotlib.collections.PathCollection at 0x7f17999ed550>"
            ]
          },
          "metadata": {},
          "execution_count": 59
        },
        {
          "output_type": "display_data",
          "data": {
            "text/plain": [
              "<Figure size 432x288 with 1 Axes>"
            ],
            "image/png": "[encoded data removed]"
          },
          "metadata": {
            "needs_background": "light"
          }
        }
      ],
      "source": [
        "x = np.array(df_financial_rev['size'])\n",
        "y = np.array(df_financial_rev['SCIENCE'])\n",
        "plt.scatter(x, y, s=1, c='b')"
      ]
    },
    {
      "cell_type": "code",
      "execution_count": null,
      "metadata": {
        "id": "-GJNRPc7OZ5b",
        "colab": {
          "base_uri": "https://localhost:8080/",
          "height": 282
        },
        "outputId": "e24c1ad5-cdd0-4e5a-a564-e557f76ed776"
      },
      "outputs": [
        {
          "output_type": "execute_result",
          "data": {
            "text/plain": [
              "<matplotlib.collections.PathCollection at 0x7f17999ed1d0>"
            ]
          },
          "metadata": {},
          "execution_count": 60
        },
        {
          "output_type": "display_data",
          "data": {
            "text/plain": [
              "<Figure size 432x288 with 1 Axes>"
            ],
            "image/png": "[encoded data removed]"
          },
          "metadata": {
            "needs_background": "light"
          }
        }
      ],
      "source": [
        "x = np.array(df_financial_exp['size'])\n",
        "y = np.array(df_financial_exp['MATHEMATICS'])\n",
        "plt.scatter(x, y, s=1, c='b')"
      ]
    },
    {
      "cell_type": "code",
      "execution_count": null,
      "metadata": {
        "id": "K7ngxHRSOcDS",
        "colab": {
          "base_uri": "https://localhost:8080/",
          "height": 282
        },
        "outputId": "82d28d28-0c74-4306-d3db-ff9580818276"
      },
      "outputs": [
        {
          "output_type": "execute_result",
          "data": {
            "text/plain": [
              "<matplotlib.collections.PathCollection at 0x7f1798f61850>"
            ]
          },
          "metadata": {},
          "execution_count": 61
        },
        {
          "output_type": "display_data",
          "data": {
            "text/plain": [
              "<Figure size 432x288 with 1 Axes>"
            ],
            "image/png": "[encoded data removed]"
          },
          "metadata": {
            "needs_background": "light"
          }
        }
      ],
      "source": [
        "x = np.array(df_financial_exp['size'])\n",
        "y = np.array(df_financial_exp['ENGLISH LANGUAGE ARTS'])\n",
        "plt.scatter(x, y, s=1, c='b')"
      ]
    },
    {
      "cell_type": "code",
      "execution_count": null,
      "metadata": {
        "id": "qsOJnZi7OdKz",
        "colab": {
          "base_uri": "https://localhost:8080/",
          "height": 282
        },
        "outputId": "186839b8-b395-42ed-b613-808c3bad281e"
      },
      "outputs": [
        {
          "output_type": "execute_result",
          "data": {
            "text/plain": [
              "<matplotlib.collections.PathCollection at 0x7f1798ee1e90>"
            ]
          },
          "metadata": {},
          "execution_count": 62
        },
        {
          "output_type": "display_data",
          "data": {
            "text/plain": [
              "<Figure size 432x288 with 1 Axes>"
            ],
            "image/png": "[encoded data removed]"
          },
          "metadata": {
            "needs_background": "light"
          }
        }
      ],
      "source": [
        "x = np.array(df_financial_exp['size'])\n",
        "y = np.array(df_financial_exp['SCIENCE'])\n",
        "plt.scatter(x, y, s=1, c='b')"
      ]
    },
    {
      "cell_type": "code",
      "execution_count": null,
      "metadata": {
        "id": "emfaTc4e449w",
        "colab": {
          "base_uri": "https://localhost:8080/",
          "height": 316
        },
        "outputId": "930e917e-6c00-4233-f91a-a1e4a477472d"
      },
      "outputs": [
        {
          "output_type": "execute_result",
          "data": {
            "text/plain": [
              "array([[<matplotlib.axes._subplots.AxesSubplot object at 0x7f179807bfd0>]],\n",
              "      dtype=object)"
            ]
          },
          "metadata": {},
          "execution_count": 63
        },
        {
          "output_type": "display_data",
          "data": {
            "text/plain": [
              "<Figure size 432x288 with 1 Axes>"
            ],
            "image/png": "[encoded data removed]"
          },
          "metadata": {
            "needs_background": "light"
          }
        }
      ],
      "source": [
        "df_financial_rev.hist(['size'])"
      ]
    },
    {
      "cell_type": "code",
      "execution_count": null,
      "metadata": {
        "id": "NJC14WMU-Qax",
        "colab": {
          "base_uri": "https://localhost:8080/",
          "height": 316
        },
        "outputId": "2ca2d9c1-5f47-4de2-b8dc-55e2c26ee47e"
      },
      "outputs": [
        {
          "output_type": "execute_result",
          "data": {
            "text/plain": [
              "array([[<matplotlib.axes._subplots.AxesSubplot object at 0x7f1798348190>]],\n",
              "      dtype=object)"
            ]
          },
          "metadata": {},
          "execution_count": 64
        },
        {
          "output_type": "display_data",
          "data": {
            "text/plain": [
              "<Figure size 432x288 with 1 Axes>"
            ],
            "image/png": "[encoded data removed]"
          },
          "metadata": {
            "needs_background": "light"
          }
        }
      ],
      "source": [
        "df_financial_exp.hist(['size'])"
      ]
    },
    {
      "cell_type": "code",
      "execution_count": null,
      "metadata": {
        "id": "9z4WXyGgKRIK",
        "colab": {
          "base_uri": "https://localhost:8080/",
          "height": 143
        },
        "outputId": "763d4d68-89f3-472d-f2b2-65313b988cf4"
      },
      "outputs": [
        {
          "output_type": "execute_result",
          "data": {
            "text/plain": [
              "                       MATHEMATICS   SCIENCE  ENGLISH LANGUAGE ARTS\n",
              "MATHEMATICS               1.000000  0.871008               0.843437\n",
              "SCIENCE                   0.871008  1.000000               0.826704\n",
              "ENGLISH LANGUAGE ARTS     0.843437  0.826704               1.000000"
            ],
            "text/html": [
              "\n",
              "  <div id=\"df-2828931f-c47c-4962-8fa8-da0d61cd2256\">\n",
              "    <div class=\"colab-df-container\">\n",
              "      <div>\n",
              "<style scoped>\n",
              "    .dataframe tbody tr th:only-of-type {\n",
              "        vertical-align: middle;\n",
              "    }\n",
              "\n",
              "    .dataframe tbody tr th {\n",
              "        vertical-align: top;\n",
              "    }\n",
              "\n",
              "    .dataframe thead th {\n",
              "        text-align: right;\n",
              "    }\n",
              "</style>\n",
              "<table border=\"1\" class=\"dataframe\">\n",
              "  <thead>\n",
              "    <tr style=\"text-align: right;\">\n",
              "      <th></th>\n",
              "      <th>MATHEMATICS</th>\n",
              "      <th>SCIENCE</th>\n",
              "      <th>ENGLISH LANGUAGE ARTS</th>\n",
              "    </tr>\n",
              "  </thead>\n",
              "  <tbody>\n",
              "    <tr>\n",
              "      <th>MATHEMATICS</th>\n",
              "      <td>1.000000</td>\n",
              "      <td>0.871008</td>\n",
              "      <td>0.843437</td>\n",
              "    </tr>\n",
              "    <tr>\n",
              "      <th>SCIENCE</th>\n",
              "      <td>0.871008</td>\n",
              "      <td>1.000000</td>\n",
              "      <td>0.826704</td>\n",
              "    </tr>\n",
              "    <tr>\n",
              "      <th>ENGLISH LANGUAGE ARTS</th>\n",
              "      <td>0.843437</td>\n",
              "      <td>0.826704</td>\n",
              "      <td>1.000000</td>\n",
              "    </tr>\n",
              "  </tbody>\n",
              "</table>\n",
              "</div>\n",
              "      <button class=\"colab-df-convert\" onclick=\"convertToInteractive('df-2828931f-c47c-4962-8fa8-da0d61cd2256')\"\n",
              "              title=\"Convert this dataframe to an interactive table.\"\n",
              "              style=\"display:none;\">\n",
              "        \n",
              "  <svg xmlns=\"http://www.w3.org/2000/svg\" height=\"24px\"viewBox=\"0 0 24 24\"\n",
              "       width=\"24px\">\n",
              "    <path d=\"M0 0h24v24H0V0z\" fill=\"none\"/>\n",
              "    <path d=\"M18.56 5.44l.94 2.06.94-2.06 2.06-.94-2.06-.94-.94-2.06-.94 2.06-2.06.94zm-11 1L8.5 8.5l.94-2.06 2.06-.94-2.06-.94L8.5 2.5l-.94 2.06-2.06.94zm10 10l.94 2.06.94-2.06 2.06-.94-2.06-.94-.94-2.06-.94 2.06-2.06.94z\"/><path d=\"M17.41 7.96l-1.37-1.37c-.4-.4-.92-.59-1.43-.59-.52 0-1.04.2-1.43.59L10.3 9.45l-7.72 7.72c-.78.78-.78 2.05 0 2.83L4 21.41c.39.39.9.59 1.41.59.51 0 1.02-.2 1.41-.59l7.78-7.78 2.81-2.81c.8-.78.8-2.07 0-2.86zM5.41 20L4 18.59l7.72-7.72 1.47 1.35L5.41 20z\"/>\n",
              "  </svg>\n",
              "      </button>\n",
              "      \n",
              "  <style>\n",
              "    .colab-df-container {\n",
              "      display:flex;\n",
              "      flex-wrap:wrap;\n",
              "      gap: 12px;\n",
              "    }\n",
              "\n",
              "    .colab-df-convert {\n",
              "      background-color: #E8F0FE;\n",
              "      border: none;\n",
              "      border-radius: 50%;\n",
              "      cursor: pointer;\n",
              "      display: none;\n",
              "      fill: #1967D2;\n",
              "      height: 32px;\n",
              "      padding: 0 0 0 0;\n",
              "      width: 32px;\n",
              "    }\n",
              "\n",
              "    .colab-df-convert:hover {\n",
              "      background-color: #E2EBFA;\n",
              "      box-shadow: 0px 1px 2px rgba(60, 64, 67, 0.3), 0px 1px 3px 1px rgba(60, 64, 67, 0.15);\n",
              "      fill: #174EA6;\n",
              "    }\n",
              "\n",
              "    [theme=dark] .colab-df-convert {\n",
              "      background-color: #3B4455;\n",
              "      fill: #D2E3FC;\n",
              "    }\n",
              "\n",
              "    [theme=dark] .colab-df-convert:hover {\n",
              "      background-color: #434B5C;\n",
              "      box-shadow: 0px 1px 3px 1px rgba(0, 0, 0, 0.15);\n",
              "      filter: drop-shadow(0px 1px 2px rgba(0, 0, 0, 0.3));\n",
              "      fill: #FFFFFF;\n",
              "    }\n",
              "  </style>\n",
              "\n",
              "      <script>\n",
              "        const buttonEl =\n",
              "          document.querySelector('#df-2828931f-c47c-4962-8fa8-da0d61cd2256 button.colab-df-convert');\n",
              "        buttonEl.style.display =\n",
              "          google.colab.kernel.accessAllowed ? 'block' : 'none';\n",
              "\n",
              "        async function convertToInteractive(key) {\n",
              "          const element = document.querySelector('#df-2828931f-c47c-4962-8fa8-da0d61cd2256');\n",
              "          const dataTable =\n",
              "            await google.colab.kernel.invokeFunction('convertToInteractive',\n",
              "                                                     [key], {});\n",
              "          if (!dataTable) return;\n",
              "\n",
              "          const docLinkHtml = 'Like what you see? Visit the ' +\n",
              "            '<a target=\"_blank\" href=https://colab.research.google.com/notebooks/data_table.ipynb>data table notebook</a>'\n",
              "            + ' to learn more about interactive tables.';\n",
              "          element.innerHTML = '';\n",
              "          dataTable['output_type'] = 'display_data';\n",
              "          await google.colab.output.renderOutput(dataTable, element);\n",
              "          const docLink = document.createElement('div');\n",
              "          docLink.innerHTML = docLinkHtml;\n",
              "          element.appendChild(docLink);\n",
              "        }\n",
              "      </script>\n",
              "    </div>\n",
              "  </div>\n",
              "  "
            ]
          },
          "metadata": {},
          "execution_count": 65
        }
      ],
      "source": [
        "df[['MATHEMATICS', 'SCIENCE', 'ENGLISH LANGUAGE ARTS']].corr()"
      ]
    },
    {
      "cell_type": "code",
      "execution_count": null,
      "metadata": {
        "id": "wO_XYyToKHnl",
        "colab": {
          "base_uri": "https://localhost:8080/"
        },
        "outputId": "158613f6-85eb-4cc8-9613-8c6a7bfe0084"
      },
      "outputs": [
        {
          "output_type": "stream",
          "name": "stderr",
          "text": [
            "/usr/local/lib/python3.7/dist-packages/ipykernel_launcher.py:1: SettingWithCopyWarning: \n",
            "A value is trying to be set on a copy of a slice from a DataFrame.\n",
            "Try using .loc[row_indexer,col_indexer] = value instead\n",
            "\n",
            "See the caveats in the documentation: https://pandas.pydata.org/pandas-docs/stable/user_guide/indexing.html#returning-a-view-versus-a-copy\n",
            "  \"\"\"Entry point for launching an IPython kernel.\n"
          ]
        }
      ],
      "source": [
        "df['amt_sqrt'] = df['amt']**(1/2)"
      ]
    },
    {
      "cell_type": "code",
      "execution_count": null,
      "metadata": {
        "id": "9ay4p6B0DQPi",
        "colab": {
          "base_uri": "https://localhost:8080/",
          "height": 282
        },
        "outputId": "0f34d3c9-1f6e-4e5a-de3f-9c258e9ec75a"
      },
      "outputs": [
        {
          "output_type": "execute_result",
          "data": {
            "text/plain": [
              "<matplotlib.axes._subplots.AxesSubplot at 0x7f179821e2d0>"
            ]
          },
          "metadata": {},
          "execution_count": 67
        },
        {
          "output_type": "display_data",
          "data": {
            "text/plain": [
              "<Figure size 432x288 with 1 Axes>"
            ],
            "image/png": "[encoded data removed]"
          },
          "metadata": {
            "needs_background": "light"
          }
        }
      ],
      "source": [
        "df[(df['amt']>0) & (df['amt']<100000)]['amt'].hist()"
      ]
    },
    {
      "cell_type": "code",
      "execution_count": null,
      "metadata": {
        "id": "R7tr2I3EKe9C",
        "colab": {
          "base_uri": "https://localhost:8080/",
          "height": 282
        },
        "outputId": "d31d0450-4cc9-4b36-f287-4d3130f04d6f"
      },
      "outputs": [
        {
          "output_type": "execute_result",
          "data": {
            "text/plain": [
              "<matplotlib.axes._subplots.AxesSubplot at 0x7f17980b5dd0>"
            ]
          },
          "metadata": {},
          "execution_count": 68
        },
        {
          "output_type": "display_data",
          "data": {
            "text/plain": [
              "<Figure size 432x288 with 1 Axes>"
            ],
            "image/png": "[encoded data removed]"
          },
          "metadata": {
            "needs_background": "light"
          }
        }
      ],
      "source": [
        "df[(df['amt_sqrt']>0) & (df['amt_sqrt']<1000)]['amt_sqrt'].hist()"
      ]
    },
    {
      "cell_type": "code",
      "execution_count": null,
      "metadata": {
        "id": "lhW2CJrKGsyG",
        "colab": {
          "base_uri": "https://localhost:8080/",
          "height": 282
        },
        "outputId": "fad91936-d33d-4864-8b46-1ae669dba5fa"
      },
      "outputs": [
        {
          "output_type": "execute_result",
          "data": {
            "text/plain": [
              "<matplotlib.axes._subplots.AxesSubplot at 0x7f17982f7cd0>"
            ]
          },
          "metadata": {},
          "execution_count": 69
        },
        {
          "output_type": "display_data",
          "data": {
            "text/plain": [
              "<Figure size 432x288 with 1 Axes>"
            ],
            "image/png": "[encoded data removed]"
          },
          "metadata": {
            "needs_background": "light"
          }
        }
      ],
      "source": [
        "df['ENGLISH LANGUAGE ARTS'].hist(bins=100)"
      ]
    },
    {
      "cell_type": "code",
      "execution_count": null,
      "metadata": {
        "id": "lu24cbxTG43F",
        "colab": {
          "base_uri": "https://localhost:8080/",
          "height": 282
        },
        "outputId": "022fd49f-27ee-4593-df69-f15f6eaa8445"
      },
      "outputs": [
        {
          "output_type": "execute_result",
          "data": {
            "text/plain": [
              "<matplotlib.axes._subplots.AxesSubplot at 0x7f17980bea50>"
            ]
          },
          "metadata": {},
          "execution_count": 70
        },
        {
          "output_type": "display_data",
          "data": {
            "text/plain": [
              "<Figure size 432x288 with 1 Axes>"
            ],
            "image/png": "[encoded data removed]"
          },
          "metadata": {
            "needs_background": "light"
          }
        }
      ],
      "source": [
        "df['MATHEMATICS'].hist(bins=100)"
      ]
    },
    {
      "cell_type": "code",
      "execution_count": null,
      "metadata": {
        "id": "UgBTzuqXG6er",
        "colab": {
          "base_uri": "https://localhost:8080/",
          "height": 282
        },
        "outputId": "f045f163-91ac-4d46-a810-cb3259b223d3"
      },
      "outputs": [
        {
          "output_type": "execute_result",
          "data": {
            "text/plain": [
              "<matplotlib.axes._subplots.AxesSubplot at 0x7f1797f02a90>"
            ]
          },
          "metadata": {},
          "execution_count": 71
        },
        {
          "output_type": "display_data",
          "data": {
            "text/plain": [
              "<Figure size 432x288 with 1 Axes>"
            ],
            "image/png": "[encoded data removed]"
          },
          "metadata": {
            "needs_background": "light"
          }
        }
      ],
      "source": [
        "df['SCIENCE'].hist(bins=100)"
      ]
    },
    {
      "cell_type": "code",
      "execution_count": null,
      "metadata": {
        "id": "2niGMKi9LfD2",
        "colab": {
          "base_uri": "https://localhost:8080/",
          "height": 175
        },
        "outputId": "6d0aa420-310d-4734-b63a-b4ade69e0f4d"
      },
      "outputs": [
        {
          "output_type": "execute_result",
          "data": {
            "text/plain": [
              "                       MATHEMATICS  ENGLISH LANGUAGE ARTS   SCIENCE       amt\n",
              "MATHEMATICS               1.000000               0.824321  0.841702  0.030558\n",
              "ENGLISH LANGUAGE ARTS     0.824321               1.000000  0.795216  0.028758\n",
              "SCIENCE                   0.841702               0.795216  1.000000  0.017168\n",
              "amt                       0.030558               0.028758  0.017168  1.000000"
            ],
            "text/html": [
              "\n",
              "  <div id=\"df-89285470-f56a-47bc-bbdf-af192d7fce5e\">\n",
              "    <div class=\"colab-df-container\">\n",
              "      <div>\n",
              "<style scoped>\n",
              "    .dataframe tbody tr th:only-of-type {\n",
              "        vertical-align: middle;\n",
              "    }\n",
              "\n",
              "    .dataframe tbody tr th {\n",
              "        vertical-align: top;\n",
              "    }\n",
              "\n",
              "    .dataframe thead th {\n",
              "        text-align: right;\n",
              "    }\n",
              "</style>\n",
              "<table border=\"1\" class=\"dataframe\">\n",
              "  <thead>\n",
              "    <tr style=\"text-align: right;\">\n",
              "      <th></th>\n",
              "      <th>MATHEMATICS</th>\n",
              "      <th>ENGLISH LANGUAGE ARTS</th>\n",
              "      <th>SCIENCE</th>\n",
              "      <th>amt</th>\n",
              "    </tr>\n",
              "  </thead>\n",
              "  <tbody>\n",
              "    <tr>\n",
              "      <th>MATHEMATICS</th>\n",
              "      <td>1.000000</td>\n",
              "      <td>0.824321</td>\n",
              "      <td>0.841702</td>\n",
              "      <td>0.030558</td>\n",
              "    </tr>\n",
              "    <tr>\n",
              "      <th>ENGLISH LANGUAGE ARTS</th>\n",
              "      <td>0.824321</td>\n",
              "      <td>1.000000</td>\n",
              "      <td>0.795216</td>\n",
              "      <td>0.028758</td>\n",
              "    </tr>\n",
              "    <tr>\n",
              "      <th>SCIENCE</th>\n",
              "      <td>0.841702</td>\n",
              "      <td>0.795216</td>\n",
              "      <td>1.000000</td>\n",
              "      <td>0.017168</td>\n",
              "    </tr>\n",
              "    <tr>\n",
              "      <th>amt</th>\n",
              "      <td>0.030558</td>\n",
              "      <td>0.028758</td>\n",
              "      <td>0.017168</td>\n",
              "      <td>1.000000</td>\n",
              "    </tr>\n",
              "  </tbody>\n",
              "</table>\n",
              "</div>\n",
              "      <button class=\"colab-df-convert\" onclick=\"convertToInteractive('df-89285470-f56a-47bc-bbdf-af192d7fce5e')\"\n",
              "              title=\"Convert this dataframe to an interactive table.\"\n",
              "              style=\"display:none;\">\n",
              "        \n",
              "  <svg xmlns=\"http://www.w3.org/2000/svg\" height=\"24px\"viewBox=\"0 0 24 24\"\n",
              "       width=\"24px\">\n",
              "    <path d=\"M0 0h24v24H0V0z\" fill=\"none\"/>\n",
              "    <path d=\"M18.56 5.44l.94 2.06.94-2.06 2.06-.94-2.06-.94-.94-2.06-.94 2.06-2.06.94zm-11 1L8.5 8.5l.94-2.06 2.06-.94-2.06-.94L8.5 2.5l-.94 2.06-2.06.94zm10 10l.94 2.06.94-2.06 2.06-.94-2.06-.94-.94-2.06-.94 2.06-2.06.94z\"/><path d=\"M17.41 7.96l-1.37-1.37c-.4-.4-.92-.59-1.43-.59-.52 0-1.04.2-1.43.59L10.3 9.45l-7.72 7.72c-.78.78-.78 2.05 0 2.83L4 21.41c.39.39.9.59 1.41.59.51 0 1.02-.2 1.41-.59l7.78-7.78 2.81-2.81c.8-.78.8-2.07 0-2.86zM5.41 20L4 18.59l7.72-7.72 1.47 1.35L5.41 20z\"/>\n",
              "  </svg>\n",
              "      </button>\n",
              "      \n",
              "  <style>\n",
              "    .colab-df-container {\n",
              "      display:flex;\n",
              "      flex-wrap:wrap;\n",
              "      gap: 12px;\n",
              "    }\n",
              "\n",
              "    .colab-df-convert {\n",
              "      background-color: #E8F0FE;\n",
              "      border: none;\n",
              "      border-radius: 50%;\n",
              "      cursor: pointer;\n",
              "      display: none;\n",
              "      fill: #1967D2;\n",
              "      height: 32px;\n",
              "      padding: 0 0 0 0;\n",
              "      width: 32px;\n",
              "    }\n",
              "\n",
              "    .colab-df-convert:hover {\n",
              "      background-color: #E2EBFA;\n",
              "      box-shadow: 0px 1px 2px rgba(60, 64, 67, 0.3), 0px 1px 3px 1px rgba(60, 64, 67, 0.15);\n",
              "      fill: #174EA6;\n",
              "    }\n",
              "\n",
              "    [theme=dark] .colab-df-convert {\n",
              "      background-color: #3B4455;\n",
              "      fill: #D2E3FC;\n",
              "    }\n",
              "\n",
              "    [theme=dark] .colab-df-convert:hover {\n",
              "      background-color: #434B5C;\n",
              "      box-shadow: 0px 1px 3px 1px rgba(0, 0, 0, 0.15);\n",
              "      filter: drop-shadow(0px 1px 2px rgba(0, 0, 0, 0.3));\n",
              "      fill: #FFFFFF;\n",
              "    }\n",
              "  </style>\n",
              "\n",
              "      <script>\n",
              "        const buttonEl =\n",
              "          document.querySelector('#df-89285470-f56a-47bc-bbdf-af192d7fce5e button.colab-df-convert');\n",
              "        buttonEl.style.display =\n",
              "          google.colab.kernel.accessAllowed ? 'block' : 'none';\n",
              "\n",
              "        async function convertToInteractive(key) {\n",
              "          const element = document.querySelector('#df-89285470-f56a-47bc-bbdf-af192d7fce5e');\n",
              "          const dataTable =\n",
              "            await google.colab.kernel.invokeFunction('convertToInteractive',\n",
              "                                                     [key], {});\n",
              "          if (!dataTable) return;\n",
              "\n",
              "          const docLinkHtml = 'Like what you see? Visit the ' +\n",
              "            '<a target=\"_blank\" href=https://colab.research.google.com/notebooks/data_table.ipynb>data table notebook</a>'\n",
              "            + ' to learn more about interactive tables.';\n",
              "          element.innerHTML = '';\n",
              "          dataTable['output_type'] = 'display_data';\n",
              "          await google.colab.output.renderOutput(dataTable, element);\n",
              "          const docLink = document.createElement('div');\n",
              "          docLink.innerHTML = docLinkHtml;\n",
              "          element.appendChild(docLink);\n",
              "        }\n",
              "      </script>\n",
              "    </div>\n",
              "  </div>\n",
              "  "
            ]
          },
          "metadata": {},
          "execution_count": 72
        }
      ],
      "source": [
        "df[(df['amt']>0) & (df['amt']<1000000)][['MATHEMATICS', 'ENGLISH LANGUAGE ARTS', 'SCIENCE', 'amt']].corr(method='spearman')"
      ]
    },
    {
      "cell_type": "code",
      "execution_count": null,
      "metadata": {
        "id": "qyZ3gyBsU6ya",
        "colab": {
          "base_uri": "https://localhost:8080/"
        },
        "outputId": "d852d145-ae96-4e2f-a324-f38fc7b0ce93"
      },
      "outputs": [
        {
          "output_type": "execute_result",
          "data": {
            "text/plain": [
              "LEA_x                     2583\n",
              "school_ID                 2583\n",
              "school_num                2583\n",
              "school_x                  2583\n",
              "fund                      2583\n",
              "function                  2583\n",
              "program                   2640\n",
              "amt                       2583\n",
              "year                      2583\n",
              "revenue                      0\n",
              "LEA_ID                    4326\n",
              "test                     57976\n",
              "ENGLISH LANGUAGE ARTS    73336\n",
              "MATHEMATICS              74919\n",
              "SCIENCE                  93370\n",
              "amt_sqrt                 16350\n",
              "dtype: int64"
            ]
          },
          "metadata": {},
          "execution_count": 73
        }
      ],
      "source": [
        "df.isnull().sum()"
      ]
    },
    {
      "cell_type": "code",
      "execution_count": null,
      "metadata": {
        "id": "T21GBt3ZYizG",
        "colab": {
          "base_uri": "https://localhost:8080/",
          "height": 351
        },
        "outputId": "47d28dec-a333-47a9-9872-6010677233d3"
      },
      "outputs": [
        {
          "output_type": "stream",
          "name": "stderr",
          "text": [
            "/usr/local/lib/python3.7/dist-packages/seaborn/_decorators.py:43: FutureWarning: Pass the following variables as keyword args: x, y. From version 0.12, the only valid positional argument will be `data`, and passing other arguments without an explicit keyword will result in an error or misinterpretation.\n",
            "  FutureWarning\n"
          ]
        },
        {
          "output_type": "execute_result",
          "data": {
            "text/plain": [
              "<matplotlib.axes._subplots.AxesSubplot at 0x7f1797b02090>"
            ]
          },
          "metadata": {},
          "execution_count": 74
        },
        {
          "output_type": "display_data",
          "data": {
            "text/plain": [
              "<Figure size 432x288 with 1 Axes>"
            ],
            "image/png": "[encoded data removed]"
          },
          "metadata": {
            "needs_background": "light"
          }
        }
      ],
      "source": [
        "sns.regplot(df['ENGLISH LANGUAGE ARTS'], df['function'])"
      ]
    },
    {
      "cell_type": "code",
      "execution_count": null,
      "metadata": {
        "id": "infAFJOVQAE6",
        "colab": {
          "base_uri": "https://localhost:8080/"
        },
        "outputId": "26fd818f-d0ce-49bb-8a62-ab00ec2b5492"
      },
      "outputs": [
        {
          "output_type": "execute_result",
          "data": {
            "text/plain": [
              "Index(['LEA_x', 'school_ID', 'school_num', 'school_x', 'fund', 'function',\n",
              "       'program', 'amt', 'year', 'revenue', 'LEA_ID', 'test',\n",
              "       'ENGLISH LANGUAGE ARTS', 'MATHEMATICS', 'SCIENCE', 'amt_sqrt'],\n",
              "      dtype='object')"
            ]
          },
          "metadata": {},
          "execution_count": 75
        }
      ],
      "source": [
        "df.columns"
      ]
    },
    {
      "cell_type": "code",
      "execution_count": null,
      "metadata": {
        "id": "XaoMfCLADSib",
        "colab": {
          "base_uri": "https://localhost:8080/"
        },
        "outputId": "f2b6d370-72ef-4e4e-82d6-ecabbe170e58"
      },
      "outputs": [
        {
          "output_type": "stream",
          "name": "stderr",
          "text": [
            "/usr/local/lib/python3.7/dist-packages/ipykernel_launcher.py:1: SettingWithCopyWarning: \n",
            "A value is trying to be set on a copy of a slice from a DataFrame.\n",
            "Try using .loc[row_indexer,col_indexer] = value instead\n",
            "\n",
            "See the caveats in the documentation: https://pandas.pydata.org/pandas-docs/stable/user_guide/indexing.html#returning-a-view-versus-a-copy\n",
            "  \"\"\"Entry point for launching an IPython kernel.\n"
          ]
        }
      ],
      "source": [
        "df['proficiency'] = df[['MATHEMATICS', 'SCIENCE', 'ENGLISH LANGUAGE ARTS']].mean(axis=1)"
      ]
    },
    {
      "cell_type": "code",
      "execution_count": null,
      "metadata": {
        "id": "vxPTx13xFXmW",
        "colab": {
          "base_uri": "https://localhost:8080/"
        },
        "outputId": "d33ca512-f4ca-4e1f-857b-579e2501ee25"
      },
      "outputs": [
        {
          "output_type": "execute_result",
          "data": {
            "text/plain": [
              "test\n",
              "RISE    0.344748\n",
              "SAGE    0.378417\n",
              "Name: proficiency, dtype: float64"
            ]
          },
          "metadata": {},
          "execution_count": 77
        }
      ],
      "source": [
        "# Average aggregate test scores by RISE and SAGE testing.\n",
        "df.groupby ('test').proficiency.mean()"
      ]
    },
    {
      "cell_type": "code",
      "execution_count": null,
      "metadata": {
        "id": "AltZBOjJFlWF",
        "colab": {
          "base_uri": "https://localhost:8080/"
        },
        "outputId": "80feb4f8-2fcc-4998-baa2-c42f9892f9d6"
      },
      "outputs": [
        {
          "output_type": "execute_result",
          "data": {
            "text/plain": [
              "test\n",
              "RISE    0.316621\n",
              "SAGE    0.376950\n",
              "Name: MATHEMATICS, dtype: float64"
            ]
          },
          "metadata": {},
          "execution_count": 78
        }
      ],
      "source": [
        "# Average Math test scores by RISE and SAGE testing.\n",
        "df.groupby ('test').MATHEMATICS.mean()"
      ]
    },
    {
      "cell_type": "code",
      "execution_count": null,
      "metadata": {
        "id": "nbNPiWz5FowA",
        "colab": {
          "base_uri": "https://localhost:8080/"
        },
        "outputId": "882c1750-416a-4134-8492-cde298e04c09"
      },
      "outputs": [
        {
          "output_type": "execute_result",
          "data": {
            "text/plain": [
              "test\n",
              "RISE    0.351236\n",
              "SAGE    0.391329\n",
              "Name: SCIENCE, dtype: float64"
            ]
          },
          "metadata": {},
          "execution_count": 79
        }
      ],
      "source": [
        "# Average Math test scores by RISE and SAGE testing.\n",
        "df.groupby ('test').SCIENCE.mean()"
      ]
    },
    {
      "cell_type": "code",
      "execution_count": null,
      "metadata": {
        "id": "6pJXEOM9FwZN",
        "colab": {
          "base_uri": "https://localhost:8080/"
        },
        "outputId": "337a3589-14e5-41ab-e0b8-ebefe7f8b1e9"
      },
      "outputs": [
        {
          "output_type": "execute_result",
          "data": {
            "text/plain": [
              "year\n",
              "2016.0    0.459779\n",
              "2017.0    0.454690\n",
              "2018.0    0.281453\n",
              "2019.0    0.274907\n",
              "2020.0         NaN\n",
              "2021.0    0.403531\n",
              "Name: proficiency, dtype: float64"
            ]
          },
          "metadata": {},
          "execution_count": 80
        }
      ],
      "source": [
        "# Average aggregate test scores by year.\n",
        "df.groupby ('year').proficiency.mean()"
      ]
    },
    {
      "cell_type": "code",
      "execution_count": null,
      "metadata": {
        "id": "u2NjuYTzGCLo",
        "colab": {
          "base_uri": "https://localhost:8080/"
        },
        "outputId": "f33956e2-211b-4bdc-ecba-159e5d996ec9"
      },
      "outputs": [
        {
          "output_type": "execute_result",
          "data": {
            "text/plain": [
              "year\n",
              "2016.0    0.463122\n",
              "2017.0    0.459347\n",
              "2018.0    0.269183\n",
              "2019.0    0.249669\n",
              "2020.0         NaN\n",
              "2021.0    0.372623\n",
              "Name: MATHEMATICS, dtype: float64"
            ]
          },
          "metadata": {},
          "execution_count": 81
        }
      ],
      "source": [
        "# Math test scores by year.\n",
        "df.groupby('year').MATHEMATICS.mean()"
      ]
    },
    {
      "cell_type": "code",
      "execution_count": null,
      "metadata": {
        "id": "jXrQo5EZGCI9",
        "colab": {
          "base_uri": "https://localhost:8080/"
        },
        "outputId": "4e483101-9ad0-4fd4-edeb-129ab312ed44"
      },
      "outputs": [
        {
          "output_type": "execute_result",
          "data": {
            "text/plain": [
              "year\n",
              "2016.0    0.475822\n",
              "2017.0    0.473974\n",
              "2018.0    0.271143\n",
              "2019.0    0.266071\n",
              "2020.0         NaN\n",
              "2021.0    0.421408\n",
              "Name: SCIENCE, dtype: float64"
            ]
          },
          "metadata": {},
          "execution_count": 82
        }
      ],
      "source": [
        "# Science test scores by year.\n",
        "df.groupby('year').SCIENCE.mean()"
      ]
    },
    {
      "cell_type": "code",
      "source": [
        "# determining variance inflation factor\n",
        "from statsmodels.stats.outliers_influence import variance_inflation_factor"
      ],
      "metadata": {
        "id": "DEToYGAuOZ2e"
      },
      "execution_count": null,
      "outputs": []
    },
    {
      "cell_type": "code",
      "source": [
        "vif_data = pd.DataFrame()\n",
        "vif_data[\"feature\"] = df.columns"
      ],
      "metadata": {
        "id": "V2alY_0VOoeI"
      },
      "execution_count": null,
      "outputs": []
    },
    {
      "cell_type": "code",
      "source": [
        "vif_data[\"VIF\"] = [variance_inflation_factor(X.values, i) for i in range(len(X.columns))]"
      ],
      "metadata": {
        "id": "s8DsUqz9O1BC"
      },
      "execution_count": null,
      "outputs": []
    },
    {
      "cell_type": "code",
      "execution_count": null,
      "metadata": {
        "id": "yF-RAw8hGB8e"
      },
      "outputs": [],
      "source": [
        "vif_data[\"VIF\"] = [variance_inflation_factor(X.values, i)\n",
        "                          for i in range(len(X.columns))]"
      ]
    },
    {
      "cell_type": "code",
      "execution_count": null,
      "metadata": {
        "id": "knKX5AiuGMVp"
      },
      "outputs": [],
      "source": [
        "# years = [2016.0, 2017.0, 2018.0, 2019.0, 2021.0]\n",
        "# null_dict = {}\n",
        "# for col in df_stack.columns:\n",
        "#   data = []\n",
        "#   if type(col) == float:\n",
        "#     for year in years:\n",
        "#       df_year = df_stack[df_stack['year']==year]\n",
        "#       data.append(len(df_year[col]) - df_year[col].isnull().sum()) \n",
        "#     null_dict[col] = data\n",
        "# null_dict_3 = {}\n",
        "# for fund in null_dict.keys():\n",
        "#   count=0\n",
        "#   for x in null_dict[fund]:\n",
        "#     if x != 0:\n",
        "#       count+=1\n",
        "#   if count > 2:\n",
        "#     null_dict_3[fund] = null_dict[fund]"
      ]
    }
  ]
}