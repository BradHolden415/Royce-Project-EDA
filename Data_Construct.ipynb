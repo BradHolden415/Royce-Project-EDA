{
  "nbformat": 4,
  "nbformat_minor": 0,
  "metadata": {
    "colab": {
      "provenance": [],
      "authorship_tag": "ABX9TyPpmOlN0FoY/AhOzCCXKoUh",
      "include_colab_link": true
    },
    "kernelspec": {
      "name": "python3",
      "display_name": "Python 3"
    },
    "language_info": {
      "name": "python"
    }
  },
  "cells": [
    {
      "cell_type": "markdown",
      "metadata": {
        "id": "view-in-github",
        "colab_type": "text"
      },
      "source": [
        "<a href=\"https://colab.research.google.com/github/BradHolden415/Royce-Project_Data-Construct/blob/main/Data_Construct.ipynb\" target=\"_parent\"><img src=\"https://colab.research.google.com/assets/colab-badge.svg\" alt=\"Open In Colab\"/></a>"
      ]
    },
    {
      "cell_type": "code",
      "execution_count": null,
      "metadata": {
        "id": "U4g0iwOkBvFU"
      },
      "outputs": [],
      "source": [
        "import pandas as pd"
      ]
    },
    {
      "cell_type": "code",
      "source": [
        "# give Google Colab access to Google Drive folders\n",
        "from google.colab import drive\n",
        "drive.mount('/content/drive')"
      ],
      "metadata": {
        "colab": {
          "base_uri": "https://localhost:8080/"
        },
        "id": "iPAOnc9mB60p",
        "outputId": "34de3511-fce2-40dc-d302-2abfa0b8bcbe"
      },
      "execution_count": null,
      "outputs": [
        {
          "output_type": "stream",
          "name": "stdout",
          "text": [
            "Mounted at /content/drive\n"
          ]
        }
      ]
    },
    {
      "cell_type": "code",
      "source": [
        "from google.colab import drive\n",
        "drive.mount('/content/drive')"
      ],
      "metadata": {
        "id": "Roq65I5Pt9gV",
        "colab": {
          "base_uri": "https://localhost:8080/"
        },
        "outputId": "3a336e21-0b00-461b-d9fe-d0bc829b970b"
      },
      "execution_count": null,
      "outputs": [
        {
          "output_type": "stream",
          "name": "stdout",
          "text": [
            "Drive already mounted at /content/drive; to attempt to forcibly remount, call drive.mount(\"/content/drive\", force_remount=True).\n"
          ]
        }
      ]
    },
    {
      "cell_type": "code",
      "source": [
        "#importing the main database\n",
        "df = pd.read_csv('/content/drive/MyDrive/4 WORK/CLP/Databases/database.csv')"
      ],
      "metadata": {
        "id": "JmanHeOglHlz",
        "colab": {
          "base_uri": "https://localhost:8080/"
        },
        "outputId": "090ed864-977f-4ff4-af3e-ec527b8aee25"
      },
      "execution_count": null,
      "outputs": [
        {
          "output_type": "stream",
          "name": "stderr",
          "text": [
            "<ipython-input-5-6236e8e5facf>:2: DtypeWarning: Columns (2,3,12,13,14) have mixed types. Specify dtype option on import or set low_memory=False.\n",
            "  df = pd.read_csv('/content/drive/MyDrive/4 WORK/CLP/Databases/database.csv')\n"
          ]
        }
      ]
    },
    {
      "cell_type": "code",
      "execution_count": null,
      "metadata": {
        "id": "yl4E-utwBvFV"
      },
      "outputs": [],
      "source": [
        "# importing the revenue data and storing it as a pandas dataframe\n",
        "rev_filename = \"/content/drive/MyDrive/4 WORK/CLP/Databases/revenue.csv\"\n",
        "df_rev = pd.read_csv(rev_filename)"
      ]
    },
    {
      "cell_type": "code",
      "execution_count": null,
      "metadata": {
        "id": "0ecdsFB4BvFW"
      },
      "outputs": [],
      "source": [
        "# rename the columns of the dataframe to make them more readable\n",
        "df_rev.rename(columns={'District Number': 'LEA_num', 'District Name': 'LEA', 'Location School Id':\n",
        "                           'school_ID', 'Location School Number': 'school_num', 'Location Name': 'school',\n",
        "                           'Fund Code': 'fund', 'Revenue Code': 'function', 'Program Code': 'program',\n",
        "                           'Amount': 'amt', 'Year': 'year'}, inplace=True)\n",
        "\n",
        "# remove rows from revenue dataframe that include missing data\n",
        "df_rev.dropna(axis=0, how='all', inplace=True)\n",
        "\n",
        "# add a column called \"revenue\" which designates that each fund listed is a revenue fund, not an expense fund\n",
        "df_rev['revenue'] = True"
      ]
    },
    {
      "cell_type": "code",
      "execution_count": null,
      "metadata": {
        "id": "SCc8GDjVBvFZ",
        "colab": {
          "base_uri": "https://localhost:8080/",
          "height": 206
        },
        "outputId": "a30d9034-2d7e-47df-ad5f-7047073f031b"
      },
      "outputs": [
        {
          "output_type": "execute_result",
          "data": {
            "text/plain": [
              "  LEA_num              LEA  school_ID school_num           school  fund  \\\n",
              "0     001  Alpine District      122.0        001  Alpine District  10.0   \n",
              "1     001  Alpine District      122.0        001  Alpine District  10.0   \n",
              "2     001  Alpine District      122.0        001  Alpine District  10.0   \n",
              "3     001  Alpine District      122.0        001  Alpine District  10.0   \n",
              "4     001  Alpine District      122.0        001  Alpine District  10.0   \n",
              "\n",
              "   function  Revenue Source Two Digit  program          amt    year    n  \\\n",
              "0    1110.0                    1000.0      5.0  30714587.17  2016.0  1.0   \n",
              "1    1111.0                    1000.0      5.0   1897475.78  2016.0  2.0   \n",
              "2    1112.0                    1000.0      5.0  23690571.60  2016.0  3.0   \n",
              "3    1113.0                    1000.0      5.0   1463548.44  2016.0  4.0   \n",
              "4    1114.0                    1000.0      5.0  12062125.79  2016.0  5.0   \n",
              "\n",
              "  Unnamed: 12  revenue  \n",
              "0           Y     True  \n",
              "1           Y     True  \n",
              "2           Y     True  \n",
              "3           Y     True  \n",
              "4           Y     True  "
            ],
            "text/html": [
              "\n",
              "  <div id=\"df-33217694-263c-4fc2-b92a-1dcce053dcb3\">\n",
              "    <div class=\"colab-df-container\">\n",
              "      <div>\n",
              "<style scoped>\n",
              "    .dataframe tbody tr th:only-of-type {\n",
              "        vertical-align: middle;\n",
              "    }\n",
              "\n",
              "    .dataframe tbody tr th {\n",
              "        vertical-align: top;\n",
              "    }\n",
              "\n",
              "    .dataframe thead th {\n",
              "        text-align: right;\n",
              "    }\n",
              "</style>\n",
              "<table border=\"1\" class=\"dataframe\">\n",
              "  <thead>\n",
              "    <tr style=\"text-align: right;\">\n",
              "      <th></th>\n",
              "      <th>LEA_num</th>\n",
              "      <th>LEA</th>\n",
              "      <th>school_ID</th>\n",
              "      <th>school_num</th>\n",
              "      <th>school</th>\n",
              "      <th>fund</th>\n",
              "      <th>function</th>\n",
              "      <th>Revenue Source Two Digit</th>\n",
              "      <th>program</th>\n",
              "      <th>amt</th>\n",
              "      <th>year</th>\n",
              "      <th>n</th>\n",
              "      <th>Unnamed: 12</th>\n",
              "      <th>revenue</th>\n",
              "    </tr>\n",
              "  </thead>\n",
              "  <tbody>\n",
              "    <tr>\n",
              "      <th>0</th>\n",
              "      <td>001</td>\n",
              "      <td>Alpine District</td>\n",
              "      <td>122.0</td>\n",
              "      <td>001</td>\n",
              "      <td>Alpine District</td>\n",
              "      <td>10.0</td>\n",
              "      <td>1110.0</td>\n",
              "      <td>1000.0</td>\n",
              "      <td>5.0</td>\n",
              "      <td>30714587.17</td>\n",
              "      <td>2016.0</td>\n",
              "      <td>1.0</td>\n",
              "      <td>Y</td>\n",
              "      <td>True</td>\n",
              "    </tr>\n",
              "    <tr>\n",
              "      <th>1</th>\n",
              "      <td>001</td>\n",
              "      <td>Alpine District</td>\n",
              "      <td>122.0</td>\n",
              "      <td>001</td>\n",
              "      <td>Alpine District</td>\n",
              "      <td>10.0</td>\n",
              "      <td>1111.0</td>\n",
              "      <td>1000.0</td>\n",
              "      <td>5.0</td>\n",
              "      <td>1897475.78</td>\n",
              "      <td>2016.0</td>\n",
              "      <td>2.0</td>\n",
              "      <td>Y</td>\n",
              "      <td>True</td>\n",
              "    </tr>\n",
              "    <tr>\n",
              "      <th>2</th>\n",
              "      <td>001</td>\n",
              "      <td>Alpine District</td>\n",
              "      <td>122.0</td>\n",
              "      <td>001</td>\n",
              "      <td>Alpine District</td>\n",
              "      <td>10.0</td>\n",
              "      <td>1112.0</td>\n",
              "      <td>1000.0</td>\n",
              "      <td>5.0</td>\n",
              "      <td>23690571.60</td>\n",
              "      <td>2016.0</td>\n",
              "      <td>3.0</td>\n",
              "      <td>Y</td>\n",
              "      <td>True</td>\n",
              "    </tr>\n",
              "    <tr>\n",
              "      <th>3</th>\n",
              "      <td>001</td>\n",
              "      <td>Alpine District</td>\n",
              "      <td>122.0</td>\n",
              "      <td>001</td>\n",
              "      <td>Alpine District</td>\n",
              "      <td>10.0</td>\n",
              "      <td>1113.0</td>\n",
              "      <td>1000.0</td>\n",
              "      <td>5.0</td>\n",
              "      <td>1463548.44</td>\n",
              "      <td>2016.0</td>\n",
              "      <td>4.0</td>\n",
              "      <td>Y</td>\n",
              "      <td>True</td>\n",
              "    </tr>\n",
              "    <tr>\n",
              "      <th>4</th>\n",
              "      <td>001</td>\n",
              "      <td>Alpine District</td>\n",
              "      <td>122.0</td>\n",
              "      <td>001</td>\n",
              "      <td>Alpine District</td>\n",
              "      <td>10.0</td>\n",
              "      <td>1114.0</td>\n",
              "      <td>1000.0</td>\n",
              "      <td>5.0</td>\n",
              "      <td>12062125.79</td>\n",
              "      <td>2016.0</td>\n",
              "      <td>5.0</td>\n",
              "      <td>Y</td>\n",
              "      <td>True</td>\n",
              "    </tr>\n",
              "  </tbody>\n",
              "</table>\n",
              "</div>\n",
              "      <button class=\"colab-df-convert\" onclick=\"convertToInteractive('df-33217694-263c-4fc2-b92a-1dcce053dcb3')\"\n",
              "              title=\"Convert this dataframe to an interactive table.\"\n",
              "              style=\"display:none;\">\n",
              "        \n",
              "  <svg xmlns=\"http://www.w3.org/2000/svg\" height=\"24px\"viewBox=\"0 0 24 24\"\n",
              "       width=\"24px\">\n",
              "    <path d=\"M0 0h24v24H0V0z\" fill=\"none\"/>\n",
              "    <path d=\"M18.56 5.44l.94 2.06.94-2.06 2.06-.94-2.06-.94-.94-2.06-.94 2.06-2.06.94zm-11 1L8.5 8.5l.94-2.06 2.06-.94-2.06-.94L8.5 2.5l-.94 2.06-2.06.94zm10 10l.94 2.06.94-2.06 2.06-.94-2.06-.94-.94-2.06-.94 2.06-2.06.94z\"/><path d=\"M17.41 7.96l-1.37-1.37c-.4-.4-.92-.59-1.43-.59-.52 0-1.04.2-1.43.59L10.3 9.45l-7.72 7.72c-.78.78-.78 2.05 0 2.83L4 21.41c.39.39.9.59 1.41.59.51 0 1.02-.2 1.41-.59l7.78-7.78 2.81-2.81c.8-.78.8-2.07 0-2.86zM5.41 20L4 18.59l7.72-7.72 1.47 1.35L5.41 20z\"/>\n",
              "  </svg>\n",
              "      </button>\n",
              "      \n",
              "  <style>\n",
              "    .colab-df-container {\n",
              "      display:flex;\n",
              "      flex-wrap:wrap;\n",
              "      gap: 12px;\n",
              "    }\n",
              "\n",
              "    .colab-df-convert {\n",
              "      background-color: #E8F0FE;\n",
              "      border: none;\n",
              "      border-radius: 50%;\n",
              "      cursor: pointer;\n",
              "      display: none;\n",
              "      fill: #1967D2;\n",
              "      height: 32px;\n",
              "      padding: 0 0 0 0;\n",
              "      width: 32px;\n",
              "    }\n",
              "\n",
              "    .colab-df-convert:hover {\n",
              "      background-color: #E2EBFA;\n",
              "      box-shadow: 0px 1px 2px rgba(60, 64, 67, 0.3), 0px 1px 3px 1px rgba(60, 64, 67, 0.15);\n",
              "      fill: #174EA6;\n",
              "    }\n",
              "\n",
              "    [theme=dark] .colab-df-convert {\n",
              "      background-color: #3B4455;\n",
              "      fill: #D2E3FC;\n",
              "    }\n",
              "\n",
              "    [theme=dark] .colab-df-convert:hover {\n",
              "      background-color: #434B5C;\n",
              "      box-shadow: 0px 1px 3px 1px rgba(0, 0, 0, 0.15);\n",
              "      filter: drop-shadow(0px 1px 2px rgba(0, 0, 0, 0.3));\n",
              "      fill: #FFFFFF;\n",
              "    }\n",
              "  </style>\n",
              "\n",
              "      <script>\n",
              "        const buttonEl =\n",
              "          document.querySelector('#df-33217694-263c-4fc2-b92a-1dcce053dcb3 button.colab-df-convert');\n",
              "        buttonEl.style.display =\n",
              "          google.colab.kernel.accessAllowed ? 'block' : 'none';\n",
              "\n",
              "        async function convertToInteractive(key) {\n",
              "          const element = document.querySelector('#df-33217694-263c-4fc2-b92a-1dcce053dcb3');\n",
              "          const dataTable =\n",
              "            await google.colab.kernel.invokeFunction('convertToInteractive',\n",
              "                                                     [key], {});\n",
              "          if (!dataTable) return;\n",
              "\n",
              "          const docLinkHtml = 'Like what you see? Visit the ' +\n",
              "            '<a target=\"_blank\" href=https://colab.research.google.com/notebooks/data_table.ipynb>data table notebook</a>'\n",
              "            + ' to learn more about interactive tables.';\n",
              "          element.innerHTML = '';\n",
              "          dataTable['output_type'] = 'display_data';\n",
              "          await google.colab.output.renderOutput(dataTable, element);\n",
              "          const docLink = document.createElement('div');\n",
              "          docLink.innerHTML = docLinkHtml;\n",
              "          element.appendChild(docLink);\n",
              "        }\n",
              "      </script>\n",
              "    </div>\n",
              "  </div>\n",
              "  "
            ]
          },
          "metadata": {},
          "execution_count": 8
        }
      ],
      "source": [
        "df_rev.head()"
      ]
    },
    {
      "cell_type": "code",
      "execution_count": null,
      "metadata": {
        "id": "5IHTvi8wBvFZ"
      },
      "outputs": [],
      "source": [
        "# remove irrelevant columns\n",
        "df_rev.drop([\"LEA_num\", \"Revenue Source Two Digit\", \"Unnamed: 12\", \"n\"], axis=1, inplace=True)"
      ]
    },
    {
      "cell_type": "code",
      "execution_count": null,
      "metadata": {
        "id": "2H6TgcIjBvFa",
        "colab": {
          "base_uri": "https://localhost:8080/"
        },
        "outputId": "11022a31-4cd9-43bc-ed9c-062e1f466124"
      },
      "outputs": [
        {
          "output_type": "stream",
          "name": "stderr",
          "text": [
            "<ipython-input-11-25572c8aff05>:3: DtypeWarning: Columns (0,3) have mixed types. Specify dtype option on import or set low_memory=False.\n",
            "  df_exp = pd.read_csv(exp_filename)\n"
          ]
        }
      ],
      "source": [
        "# import expense data, perform the same steps from revenue data\n",
        "exp_filename = \"/content/drive/MyDrive/4 WORK/CLP/Databases/expense.csv\"\n",
        "df_exp = pd.read_csv(exp_filename)"
      ]
    },
    {
      "cell_type": "code",
      "execution_count": null,
      "metadata": {
        "id": "zghFz3AZBvFb"
      },
      "outputs": [],
      "source": [
        "df_exp.rename(columns={'District Number': 'LEA_num', 'District Name': 'LEA', 'Location School Id':\n",
        "    'school_ID', 'Location School Number': 'school_num', 'Location Name': 'school',\n",
        "                       'Fund Code': 'fund', 'Function Code': 'function', 'Program Code': 'program',\n",
        "                       'Amount': 'amt', 'Year': 'year'}, inplace=True)\n",
        "\n",
        "df_exp.dropna(axis=0, how='all', inplace=True)\n",
        "\n",
        "df_exp['revenue'] = False"
      ]
    },
    {
      "cell_type": "code",
      "execution_count": null,
      "metadata": {
        "id": "f0vxw5Y1BvFc",
        "colab": {
          "base_uri": "https://localhost:8080/",
          "height": 206
        },
        "outputId": "d9971821-dc3b-46af-d6c8-3a72dbd965a0"
      },
      "outputs": [
        {
          "output_type": "execute_result",
          "data": {
            "text/plain": [
              "  LEA_num              LEA  school_ID school_num           school  fund  \\\n",
              "0     001  Alpine District        122        001  Alpine District    10   \n",
              "1     001  Alpine District        122        001  Alpine District    10   \n",
              "2     001  Alpine District        122        001  Alpine District    10   \n",
              "3     001  Alpine District        122        001  Alpine District    10   \n",
              "4     001  Alpine District        122        001  Alpine District    10   \n",
              "\n",
              "   function  Object Code  program           amt  year  revenue  \n",
              "0      1000          131      5.0  1.155745e+08  2016    False  \n",
              "1      1000          131   1205.0  1.301380e+07  2016    False  \n",
              "2      1000          131   1210.0  6.916244e+05  2016    False  \n",
              "3      1000          131   1278.0  2.964000e+05  2016    False  \n",
              "4      1000          131   5331.0  5.098589e+04  2016    False  "
            ],
            "text/html": [
              "\n",
              "  <div id=\"df-e0ac0a19-f0cd-44ec-b68b-47ebd5508c0d\">\n",
              "    <div class=\"colab-df-container\">\n",
              "      <div>\n",
              "<style scoped>\n",
              "    .dataframe tbody tr th:only-of-type {\n",
              "        vertical-align: middle;\n",
              "    }\n",
              "\n",
              "    .dataframe tbody tr th {\n",
              "        vertical-align: top;\n",
              "    }\n",
              "\n",
              "    .dataframe thead th {\n",
              "        text-align: right;\n",
              "    }\n",
              "</style>\n",
              "<table border=\"1\" class=\"dataframe\">\n",
              "  <thead>\n",
              "    <tr style=\"text-align: right;\">\n",
              "      <th></th>\n",
              "      <th>LEA_num</th>\n",
              "      <th>LEA</th>\n",
              "      <th>school_ID</th>\n",
              "      <th>school_num</th>\n",
              "      <th>school</th>\n",
              "      <th>fund</th>\n",
              "      <th>function</th>\n",
              "      <th>Object Code</th>\n",
              "      <th>program</th>\n",
              "      <th>amt</th>\n",
              "      <th>year</th>\n",
              "      <th>revenue</th>\n",
              "    </tr>\n",
              "  </thead>\n",
              "  <tbody>\n",
              "    <tr>\n",
              "      <th>0</th>\n",
              "      <td>001</td>\n",
              "      <td>Alpine District</td>\n",
              "      <td>122</td>\n",
              "      <td>001</td>\n",
              "      <td>Alpine District</td>\n",
              "      <td>10</td>\n",
              "      <td>1000</td>\n",
              "      <td>131</td>\n",
              "      <td>5.0</td>\n",
              "      <td>1.155745e+08</td>\n",
              "      <td>2016</td>\n",
              "      <td>False</td>\n",
              "    </tr>\n",
              "    <tr>\n",
              "      <th>1</th>\n",
              "      <td>001</td>\n",
              "      <td>Alpine District</td>\n",
              "      <td>122</td>\n",
              "      <td>001</td>\n",
              "      <td>Alpine District</td>\n",
              "      <td>10</td>\n",
              "      <td>1000</td>\n",
              "      <td>131</td>\n",
              "      <td>1205.0</td>\n",
              "      <td>1.301380e+07</td>\n",
              "      <td>2016</td>\n",
              "      <td>False</td>\n",
              "    </tr>\n",
              "    <tr>\n",
              "      <th>2</th>\n",
              "      <td>001</td>\n",
              "      <td>Alpine District</td>\n",
              "      <td>122</td>\n",
              "      <td>001</td>\n",
              "      <td>Alpine District</td>\n",
              "      <td>10</td>\n",
              "      <td>1000</td>\n",
              "      <td>131</td>\n",
              "      <td>1210.0</td>\n",
              "      <td>6.916244e+05</td>\n",
              "      <td>2016</td>\n",
              "      <td>False</td>\n",
              "    </tr>\n",
              "    <tr>\n",
              "      <th>3</th>\n",
              "      <td>001</td>\n",
              "      <td>Alpine District</td>\n",
              "      <td>122</td>\n",
              "      <td>001</td>\n",
              "      <td>Alpine District</td>\n",
              "      <td>10</td>\n",
              "      <td>1000</td>\n",
              "      <td>131</td>\n",
              "      <td>1278.0</td>\n",
              "      <td>2.964000e+05</td>\n",
              "      <td>2016</td>\n",
              "      <td>False</td>\n",
              "    </tr>\n",
              "    <tr>\n",
              "      <th>4</th>\n",
              "      <td>001</td>\n",
              "      <td>Alpine District</td>\n",
              "      <td>122</td>\n",
              "      <td>001</td>\n",
              "      <td>Alpine District</td>\n",
              "      <td>10</td>\n",
              "      <td>1000</td>\n",
              "      <td>131</td>\n",
              "      <td>5331.0</td>\n",
              "      <td>5.098589e+04</td>\n",
              "      <td>2016</td>\n",
              "      <td>False</td>\n",
              "    </tr>\n",
              "  </tbody>\n",
              "</table>\n",
              "</div>\n",
              "      <button class=\"colab-df-convert\" onclick=\"convertToInteractive('df-e0ac0a19-f0cd-44ec-b68b-47ebd5508c0d')\"\n",
              "              title=\"Convert this dataframe to an interactive table.\"\n",
              "              style=\"display:none;\">\n",
              "        \n",
              "  <svg xmlns=\"http://www.w3.org/2000/svg\" height=\"24px\"viewBox=\"0 0 24 24\"\n",
              "       width=\"24px\">\n",
              "    <path d=\"M0 0h24v24H0V0z\" fill=\"none\"/>\n",
              "    <path d=\"M18.56 5.44l.94 2.06.94-2.06 2.06-.94-2.06-.94-.94-2.06-.94 2.06-2.06.94zm-11 1L8.5 8.5l.94-2.06 2.06-.94-2.06-.94L8.5 2.5l-.94 2.06-2.06.94zm10 10l.94 2.06.94-2.06 2.06-.94-2.06-.94-.94-2.06-.94 2.06-2.06.94z\"/><path d=\"M17.41 7.96l-1.37-1.37c-.4-.4-.92-.59-1.43-.59-.52 0-1.04.2-1.43.59L10.3 9.45l-7.72 7.72c-.78.78-.78 2.05 0 2.83L4 21.41c.39.39.9.59 1.41.59.51 0 1.02-.2 1.41-.59l7.78-7.78 2.81-2.81c.8-.78.8-2.07 0-2.86zM5.41 20L4 18.59l7.72-7.72 1.47 1.35L5.41 20z\"/>\n",
              "  </svg>\n",
              "      </button>\n",
              "      \n",
              "  <style>\n",
              "    .colab-df-container {\n",
              "      display:flex;\n",
              "      flex-wrap:wrap;\n",
              "      gap: 12px;\n",
              "    }\n",
              "\n",
              "    .colab-df-convert {\n",
              "      background-color: #E8F0FE;\n",
              "      border: none;\n",
              "      border-radius: 50%;\n",
              "      cursor: pointer;\n",
              "      display: none;\n",
              "      fill: #1967D2;\n",
              "      height: 32px;\n",
              "      padding: 0 0 0 0;\n",
              "      width: 32px;\n",
              "    }\n",
              "\n",
              "    .colab-df-convert:hover {\n",
              "      background-color: #E2EBFA;\n",
              "      box-shadow: 0px 1px 2px rgba(60, 64, 67, 0.3), 0px 1px 3px 1px rgba(60, 64, 67, 0.15);\n",
              "      fill: #174EA6;\n",
              "    }\n",
              "\n",
              "    [theme=dark] .colab-df-convert {\n",
              "      background-color: #3B4455;\n",
              "      fill: #D2E3FC;\n",
              "    }\n",
              "\n",
              "    [theme=dark] .colab-df-convert:hover {\n",
              "      background-color: #434B5C;\n",
              "      box-shadow: 0px 1px 3px 1px rgba(0, 0, 0, 0.15);\n",
              "      filter: drop-shadow(0px 1px 2px rgba(0, 0, 0, 0.3));\n",
              "      fill: #FFFFFF;\n",
              "    }\n",
              "  </style>\n",
              "\n",
              "      <script>\n",
              "        const buttonEl =\n",
              "          document.querySelector('#df-e0ac0a19-f0cd-44ec-b68b-47ebd5508c0d button.colab-df-convert');\n",
              "        buttonEl.style.display =\n",
              "          google.colab.kernel.accessAllowed ? 'block' : 'none';\n",
              "\n",
              "        async function convertToInteractive(key) {\n",
              "          const element = document.querySelector('#df-e0ac0a19-f0cd-44ec-b68b-47ebd5508c0d');\n",
              "          const dataTable =\n",
              "            await google.colab.kernel.invokeFunction('convertToInteractive',\n",
              "                                                     [key], {});\n",
              "          if (!dataTable) return;\n",
              "\n",
              "          const docLinkHtml = 'Like what you see? Visit the ' +\n",
              "            '<a target=\"_blank\" href=https://colab.research.google.com/notebooks/data_table.ipynb>data table notebook</a>'\n",
              "            + ' to learn more about interactive tables.';\n",
              "          element.innerHTML = '';\n",
              "          dataTable['output_type'] = 'display_data';\n",
              "          await google.colab.output.renderOutput(dataTable, element);\n",
              "          const docLink = document.createElement('div');\n",
              "          docLink.innerHTML = docLinkHtml;\n",
              "          element.appendChild(docLink);\n",
              "        }\n",
              "      </script>\n",
              "    </div>\n",
              "  </div>\n",
              "  "
            ]
          },
          "metadata": {},
          "execution_count": 13
        }
      ],
      "source": [
        "df_exp.head()"
      ]
    },
    {
      "cell_type": "code",
      "execution_count": null,
      "metadata": {
        "id": "FAGxSTZoBvFd"
      },
      "outputs": [],
      "source": [
        "df_exp.drop(['LEA_num', 'Object Code'], axis = 1, inplace=True)"
      ]
    },
    {
      "cell_type": "code",
      "execution_count": null,
      "metadata": {
        "id": "5RlPm39sBvFe",
        "colab": {
          "base_uri": "https://localhost:8080/"
        },
        "outputId": "5c70937a-b120-4c95-ca81-6ec6bb7430d2"
      },
      "outputs": [
        {
          "output_type": "stream",
          "name": "stderr",
          "text": [
            "<ipython-input-15-311bb6833e32>:2: FutureWarning: The frame.append method is deprecated and will be removed from pandas in a future version. Use pandas.concat instead.\n",
            "  df = df_rev.append(df_exp)\n"
          ]
        }
      ],
      "source": [
        "# combine both the expense and revenue datasets together\n",
        "df = df_rev.append(df_exp)\n",
        "\n",
        "# convert each string into ALL CAPS to prevent issues with key/value mapping\n",
        "df = df.applymap(lambda s: s.upper() if type(s) == str else s)"
      ]
    },
    {
      "cell_type": "code",
      "execution_count": null,
      "metadata": {
        "id": "_CaQWoSGBvFf"
      },
      "outputs": [],
      "source": [
        "# import a conversion table between LEA names and their respective ID values\n",
        "LEA_keys = \"/content/drive/MyDrive/4 WORK/CLP/Databases/district_keys.csv\"\n",
        "df_LEA_keys = pd.read_csv(LEA_keys)"
      ]
    },
    {
      "cell_type": "code",
      "execution_count": null,
      "metadata": {
        "id": "bIlTXCvABvFg"
      },
      "outputs": [],
      "source": [
        "# convert ID values to integers to remove trailing zeroes\n",
        "df_LEA_keys['ID'] = df_LEA_keys['ID'].astype('int').astype('str')\n",
        "df_LEA_keys = df_LEA_keys.applymap(lambda s: s.upper() if type(s) == str else s)"
      ]
    },
    {
      "cell_type": "code",
      "execution_count": null,
      "metadata": {
        "id": "e83EwycBBvFg"
      },
      "outputs": [],
      "source": [
        "# convert each string into ALL CAPS to prevent issues with key/value mapping\n",
        "df_LEA_keys = pd.Series(df_LEA_keys['ID'].values, index=df_LEA_keys['LEA']).to_dict()"
      ]
    },
    {
      "cell_type": "code",
      "execution_count": null,
      "metadata": {
        "id": "hMjF71-wBvFh"
      },
      "outputs": [],
      "source": [
        "# using the new conversion table, add LEA_ID to the expense/revenue dataframe\n",
        "df['LEA_ID'] = df['LEA']\n",
        "df['LEA_ID'] = df['LEA_ID'].map(df_LEA_keys)"
      ]
    },
    {
      "cell_type": "code",
      "execution_count": null,
      "metadata": {
        "id": "zk3qC1nmBvFh"
      },
      "outputs": [],
      "source": [
        "# do the same conversions with school names to school IDs\n",
        "school_keys = \"/content/drive/MyDrive/4 WORK/CLP/Databases/school_keys.csv\"\n",
        "df_school_keys = pd.read_csv(school_keys).astype(str)\n",
        "df_school_keys = df_school_keys.applymap(lambda s: s.upper())"
      ]
    },
    {
      "cell_type": "code",
      "execution_count": null,
      "metadata": {
        "id": "5T7h1K1uBvFi"
      },
      "outputs": [],
      "source": [
        "df_school_keys = pd.Series(df_school_keys['ID'].values, index=df_school_keys['School']).to_dict()"
      ]
    },
    {
      "cell_type": "code",
      "execution_count": null,
      "metadata": {
        "id": "E5_zwceIBvFj"
      },
      "outputs": [],
      "source": [
        "df['school_ID'] = df['school']\n",
        "df['school_ID'] = df['school'].map(df_school_keys)"
      ]
    },
    {
      "cell_type": "code",
      "execution_count": null,
      "metadata": {
        "id": "SYs7C-I3BvFk"
      },
      "outputs": [],
      "source": [
        "# export the financial data to 'financial.csv'\n",
        "df.to_csv('financial.csv')"
      ]
    },
    {
      "cell_type": "code",
      "execution_count": null,
      "metadata": {
        "id": "10ZfOW5OBvFk",
        "colab": {
          "base_uri": "https://localhost:8080/"
        },
        "outputId": "af9c0311-0d83-4f38-8d9d-1d51732ffd09"
      },
      "outputs": [
        {
          "output_type": "execute_result",
          "data": {
            "text/plain": [
              "0.28985734933702006"
            ]
          },
          "metadata": {},
          "execution_count": 25
        }
      ],
      "source": [
        "# identify the percentage of null school IDs\n",
        "df['school_ID'].isnull().sum() * 100 / len(df['school_ID'])"
      ]
    },
    {
      "cell_type": "code",
      "execution_count": null,
      "metadata": {
        "id": "Cumi-ERZBvFk"
      },
      "outputs": [],
      "source": [
        "# read in RISE proficiency data into a pandas dataframe\n",
        "df_RISE = pd.read_csv('/content/drive/MyDrive/4 WORK/CLP/Databases/rise.csv')\n",
        "\n",
        "# rename columns for readability\n",
        "df_RISE = df_RISE[['year', 'test', 'school',\n",
        "       'LEA', 'LEA_ID', 'subject',\n",
        "       'proficiency']]\n",
        "\n",
        "# remove missing rows\n",
        "df_RISE.dropna(axis=0, how='all', inplace=True)\n",
        "\n",
        "# convert datatypes\n",
        "conversions = {'year': int, 'test': str, 'school': str, 'LEA': str, 'LEA_ID': str, 'subject': str, 'proficiency': float}\n",
        "df_RISE = df_RISE.astype(conversions)\n",
        "\n",
        "# convert each string into ALL CAPS to prevent issues with key/value mapping\n",
        "df_RISE = df_RISE.applymap(lambda s: s.upper() if type(s) == str else s)"
      ]
    },
    {
      "cell_type": "code",
      "execution_count": null,
      "metadata": {
        "id": "8am3RvjJBvFl"
      },
      "outputs": [],
      "source": [
        "# read in the SAGE data and perform the same conversions\n",
        "df_SAGE = pd.read_csv('/content/drive/MyDrive/4 WORK/CLP/Databases/sage.csv')\n",
        "df_SAGE.dropna(axis=0, how='all', inplace=True)\n",
        "conversions = {'year': int, 'test': str, 'school': str, 'LEA': str, 'subject': str, 'proficiency': float}\n",
        "df_SAGE = df_SAGE.astype(conversions)\n",
        "df_SAGE = df_SAGE.applymap(lambda s: s.upper() if type(s) == str else s)"
      ]
    },
    {
      "cell_type": "code",
      "execution_count": null,
      "metadata": {
        "id": "_lS1tbrZBvFl"
      },
      "outputs": [],
      "source": [
        "# map the school and LEA names to their respective IDs from the conversion tables we used earlier\n",
        "df_SAGE['school_ID'] = df_SAGE['school']\n",
        "df_SAGE['school_ID'] = df_SAGE['school'].map(df_school_keys)\n",
        "\n",
        "df_RISE['school_ID'] = df_RISE['school']\n",
        "df_RISE['school_ID'] = df_RISE['school'].map(df_school_keys)\n",
        "\n",
        "df_SAGE['LEA_ID'] = df_SAGE['LEA']\n",
        "df_SAGE['LEA_ID'] = df_SAGE['LEA'].map(df_LEA_keys)\n",
        "\n",
        "df_RISE['LEA_ID'] = df_RISE['LEA']\n",
        "df_RISE['LEA_ID'] = df_RISE['LEA'].map(df_LEA_keys)"
      ]
    },
    {
      "cell_type": "code",
      "execution_count": null,
      "metadata": {
        "id": "AZy_Xfm2BvFl",
        "colab": {
          "base_uri": "https://localhost:8080/"
        },
        "outputId": "d4adb5fc-74cb-4563-ec78-3972406e7878"
      },
      "outputs": [
        {
          "output_type": "stream",
          "name": "stdout",
          "text": [
            "1.3778643103190056\n",
            "0.1979544704717915\n",
            "0.3504567919724427\n",
            "0.0\n"
          ]
        }
      ],
      "source": [
        "# identify the percent of missing school/LEA IDs and names\n",
        "print(df_SAGE['school_ID'].isnull().sum() * 100 / len(df_SAGE['school_ID']))\n",
        "print(df_RISE['school_ID'].isnull().sum() * 100 / len(df_RISE['school_ID']))\n",
        "\n",
        "print(df_SAGE['LEA_ID'].isnull().sum() * 100 / len(df_SAGE['LEA_ID']))\n",
        "print(df_RISE['LEA_ID'].isnull().sum() * 100 / len(df_RISE['LEA_ID']))"
      ]
    },
    {
      "cell_type": "code",
      "execution_count": null,
      "metadata": {
        "id": "CS2PhAENBvFm"
      },
      "outputs": [],
      "source": [
        "# aggregate the data for each LEA with subjects as different columns so that we have total LEA proficiency data to match with revenue/expense data at the LEA level\n",
        "df_SAGE_agg = df_SAGE.groupby(['LEA', 'year', 'LEA_ID', 'subject', 'test'])['proficiency'].mean().unstack('subject').reset_index()\n",
        "df_SAGE_agg['school'] = df_SAGE_agg['LEA']\n",
        "df_SAGE_agg['school_ID'] = df_SAGE_agg['school'].map(df_school_keys)\n",
        "df_RISE_agg = df_RISE.groupby(['LEA', 'year', 'LEA_ID', 'subject', 'test'])['proficiency'].mean().unstack('subject').reset_index()\n",
        "df_RISE_agg['school'] = df_RISE_agg['LEA']\n",
        "df_RISE_agg['school_ID'] = df_RISE_agg['school'].map(df_school_keys)"
      ]
    },
    {
      "cell_type": "code",
      "execution_count": null,
      "metadata": {
        "id": "vkKiZtWSBvFm",
        "colab": {
          "base_uri": "https://localhost:8080/",
          "height": 519
        },
        "outputId": "10421156-b1c6-4579-d3ec-14d66e3ebdf5"
      },
      "outputs": [
        {
          "output_type": "execute_result",
          "data": {
            "text/plain": [
              "subject                                     LEA  year  LEA_ID  test  \\\n",
              "0        ACADEMY FOR MATH ENGINEERING & SCIENCE  2019  110575  RISE   \n",
              "1        ACADEMY FOR MATH ENGINEERING & SCIENCE  2021  110575  RISE   \n",
              "2                        ADVANTAGE ARTS ACADEMY  2021  186506  RISE   \n",
              "3                               ALPINE DISTRICT  2019     122  RISE   \n",
              "4                               ALPINE DISTRICT  2021     122  RISE   \n",
              "..                                          ...   ...     ...   ...   \n",
              "286                              WAYNE DISTRICT  2021    1042  RISE   \n",
              "287                              WEBER DISTRICT  2019    1050  RISE   \n",
              "288                              WEBER DISTRICT  2021    1050  RISE   \n",
              "289              WEILENMANN SCHOOL OF DISCOVERY  2019  186157  RISE   \n",
              "290              WEILENMANN SCHOOL OF DISCOVERY  2021  186157  RISE   \n",
              "\n",
              "subject  ENGLISH LANGUAGE ARTS  MATHEMATICS   SCIENCE  \\\n",
              "0                     0.543900     0.386300       NaN   \n",
              "1                     0.678161     0.550000  0.505376   \n",
              "2                     0.290780     0.223022  0.337209   \n",
              "3                     0.343374     0.283145  0.303801   \n",
              "4                     0.496344     0.456673  0.505752   \n",
              "..                         ...          ...       ...   \n",
              "286                   0.420071     0.406880  0.392804   \n",
              "287                   0.285675     0.245945  0.253145   \n",
              "288                   0.359681     0.374155  0.378302   \n",
              "289                   0.355000     0.288000  0.319700   \n",
              "290                   0.429054     0.433898  0.538136   \n",
              "\n",
              "subject                                  school school_ID  \n",
              "0        ACADEMY FOR MATH ENGINEERING & SCIENCE       700  \n",
              "1        ACADEMY FOR MATH ENGINEERING & SCIENCE       700  \n",
              "2                        ADVANTAGE ARTS ACADEMY       01M  \n",
              "3                               ALPINE DISTRICT         1  \n",
              "4                               ALPINE DISTRICT         1  \n",
              "..                                          ...       ...  \n",
              "286                              WAYNE DISTRICT        34  \n",
              "287                              WEBER DISTRICT        35  \n",
              "288                              WEBER DISTRICT        35  \n",
              "289              WEILENMANN SCHOOL OF DISCOVERY       100  \n",
              "290              WEILENMANN SCHOOL OF DISCOVERY       100  \n",
              "\n",
              "[291 rows x 9 columns]"
            ],
            "text/html": [
              "\n",
              "  <div id=\"df-3bebeb18-cf16-4278-8dc0-7fed5dad0ba8\">\n",
              "    <div class=\"colab-df-container\">\n",
              "      <div>\n",
              "<style scoped>\n",
              "    .dataframe tbody tr th:only-of-type {\n",
              "        vertical-align: middle;\n",
              "    }\n",
              "\n",
              "    .dataframe tbody tr th {\n",
              "        vertical-align: top;\n",
              "    }\n",
              "\n",
              "    .dataframe thead th {\n",
              "        text-align: right;\n",
              "    }\n",
              "</style>\n",
              "<table border=\"1\" class=\"dataframe\">\n",
              "  <thead>\n",
              "    <tr style=\"text-align: right;\">\n",
              "      <th>subject</th>\n",
              "      <th>LEA</th>\n",
              "      <th>year</th>\n",
              "      <th>LEA_ID</th>\n",
              "      <th>test</th>\n",
              "      <th>ENGLISH LANGUAGE ARTS</th>\n",
              "      <th>MATHEMATICS</th>\n",
              "      <th>SCIENCE</th>\n",
              "      <th>school</th>\n",
              "      <th>school_ID</th>\n",
              "    </tr>\n",
              "  </thead>\n",
              "  <tbody>\n",
              "    <tr>\n",
              "      <th>0</th>\n",
              "      <td>ACADEMY FOR MATH ENGINEERING &amp; SCIENCE</td>\n",
              "      <td>2019</td>\n",
              "      <td>110575</td>\n",
              "      <td>RISE</td>\n",
              "      <td>0.543900</td>\n",
              "      <td>0.386300</td>\n",
              "      <td>NaN</td>\n",
              "      <td>ACADEMY FOR MATH ENGINEERING &amp; SCIENCE</td>\n",
              "      <td>700</td>\n",
              "    </tr>\n",
              "    <tr>\n",
              "      <th>1</th>\n",
              "      <td>ACADEMY FOR MATH ENGINEERING &amp; SCIENCE</td>\n",
              "      <td>2021</td>\n",
              "      <td>110575</td>\n",
              "      <td>RISE</td>\n",
              "      <td>0.678161</td>\n",
              "      <td>0.550000</td>\n",
              "      <td>0.505376</td>\n",
              "      <td>ACADEMY FOR MATH ENGINEERING &amp; SCIENCE</td>\n",
              "      <td>700</td>\n",
              "    </tr>\n",
              "    <tr>\n",
              "      <th>2</th>\n",
              "      <td>ADVANTAGE ARTS ACADEMY</td>\n",
              "      <td>2021</td>\n",
              "      <td>186506</td>\n",
              "      <td>RISE</td>\n",
              "      <td>0.290780</td>\n",
              "      <td>0.223022</td>\n",
              "      <td>0.337209</td>\n",
              "      <td>ADVANTAGE ARTS ACADEMY</td>\n",
              "      <td>01M</td>\n",
              "    </tr>\n",
              "    <tr>\n",
              "      <th>3</th>\n",
              "      <td>ALPINE DISTRICT</td>\n",
              "      <td>2019</td>\n",
              "      <td>122</td>\n",
              "      <td>RISE</td>\n",
              "      <td>0.343374</td>\n",
              "      <td>0.283145</td>\n",
              "      <td>0.303801</td>\n",
              "      <td>ALPINE DISTRICT</td>\n",
              "      <td>1</td>\n",
              "    </tr>\n",
              "    <tr>\n",
              "      <th>4</th>\n",
              "      <td>ALPINE DISTRICT</td>\n",
              "      <td>2021</td>\n",
              "      <td>122</td>\n",
              "      <td>RISE</td>\n",
              "      <td>0.496344</td>\n",
              "      <td>0.456673</td>\n",
              "      <td>0.505752</td>\n",
              "      <td>ALPINE DISTRICT</td>\n",
              "      <td>1</td>\n",
              "    </tr>\n",
              "    <tr>\n",
              "      <th>...</th>\n",
              "      <td>...</td>\n",
              "      <td>...</td>\n",
              "      <td>...</td>\n",
              "      <td>...</td>\n",
              "      <td>...</td>\n",
              "      <td>...</td>\n",
              "      <td>...</td>\n",
              "      <td>...</td>\n",
              "      <td>...</td>\n",
              "    </tr>\n",
              "    <tr>\n",
              "      <th>286</th>\n",
              "      <td>WAYNE DISTRICT</td>\n",
              "      <td>2021</td>\n",
              "      <td>1042</td>\n",
              "      <td>RISE</td>\n",
              "      <td>0.420071</td>\n",
              "      <td>0.406880</td>\n",
              "      <td>0.392804</td>\n",
              "      <td>WAYNE DISTRICT</td>\n",
              "      <td>34</td>\n",
              "    </tr>\n",
              "    <tr>\n",
              "      <th>287</th>\n",
              "      <td>WEBER DISTRICT</td>\n",
              "      <td>2019</td>\n",
              "      <td>1050</td>\n",
              "      <td>RISE</td>\n",
              "      <td>0.285675</td>\n",
              "      <td>0.245945</td>\n",
              "      <td>0.253145</td>\n",
              "      <td>WEBER DISTRICT</td>\n",
              "      <td>35</td>\n",
              "    </tr>\n",
              "    <tr>\n",
              "      <th>288</th>\n",
              "      <td>WEBER DISTRICT</td>\n",
              "      <td>2021</td>\n",
              "      <td>1050</td>\n",
              "      <td>RISE</td>\n",
              "      <td>0.359681</td>\n",
              "      <td>0.374155</td>\n",
              "      <td>0.378302</td>\n",
              "      <td>WEBER DISTRICT</td>\n",
              "      <td>35</td>\n",
              "    </tr>\n",
              "    <tr>\n",
              "      <th>289</th>\n",
              "      <td>WEILENMANN SCHOOL OF DISCOVERY</td>\n",
              "      <td>2019</td>\n",
              "      <td>186157</td>\n",
              "      <td>RISE</td>\n",
              "      <td>0.355000</td>\n",
              "      <td>0.288000</td>\n",
              "      <td>0.319700</td>\n",
              "      <td>WEILENMANN SCHOOL OF DISCOVERY</td>\n",
              "      <td>100</td>\n",
              "    </tr>\n",
              "    <tr>\n",
              "      <th>290</th>\n",
              "      <td>WEILENMANN SCHOOL OF DISCOVERY</td>\n",
              "      <td>2021</td>\n",
              "      <td>186157</td>\n",
              "      <td>RISE</td>\n",
              "      <td>0.429054</td>\n",
              "      <td>0.433898</td>\n",
              "      <td>0.538136</td>\n",
              "      <td>WEILENMANN SCHOOL OF DISCOVERY</td>\n",
              "      <td>100</td>\n",
              "    </tr>\n",
              "  </tbody>\n",
              "</table>\n",
              "<p>291 rows × 9 columns</p>\n",
              "</div>\n",
              "      <button class=\"colab-df-convert\" onclick=\"convertToInteractive('df-3bebeb18-cf16-4278-8dc0-7fed5dad0ba8')\"\n",
              "              title=\"Convert this dataframe to an interactive table.\"\n",
              "              style=\"display:none;\">\n",
              "        \n",
              "  <svg xmlns=\"http://www.w3.org/2000/svg\" height=\"24px\"viewBox=\"0 0 24 24\"\n",
              "       width=\"24px\">\n",
              "    <path d=\"M0 0h24v24H0V0z\" fill=\"none\"/>\n",
              "    <path d=\"M18.56 5.44l.94 2.06.94-2.06 2.06-.94-2.06-.94-.94-2.06-.94 2.06-2.06.94zm-11 1L8.5 8.5l.94-2.06 2.06-.94-2.06-.94L8.5 2.5l-.94 2.06-2.06.94zm10 10l.94 2.06.94-2.06 2.06-.94-2.06-.94-.94-2.06-.94 2.06-2.06.94z\"/><path d=\"M17.41 7.96l-1.37-1.37c-.4-.4-.92-.59-1.43-.59-.52 0-1.04.2-1.43.59L10.3 9.45l-7.72 7.72c-.78.78-.78 2.05 0 2.83L4 21.41c.39.39.9.59 1.41.59.51 0 1.02-.2 1.41-.59l7.78-7.78 2.81-2.81c.8-.78.8-2.07 0-2.86zM5.41 20L4 18.59l7.72-7.72 1.47 1.35L5.41 20z\"/>\n",
              "  </svg>\n",
              "      </button>\n",
              "      \n",
              "  <style>\n",
              "    .colab-df-container {\n",
              "      display:flex;\n",
              "      flex-wrap:wrap;\n",
              "      gap: 12px;\n",
              "    }\n",
              "\n",
              "    .colab-df-convert {\n",
              "      background-color: #E8F0FE;\n",
              "      border: none;\n",
              "      border-radius: 50%;\n",
              "      cursor: pointer;\n",
              "      display: none;\n",
              "      fill: #1967D2;\n",
              "      height: 32px;\n",
              "      padding: 0 0 0 0;\n",
              "      width: 32px;\n",
              "    }\n",
              "\n",
              "    .colab-df-convert:hover {\n",
              "      background-color: #E2EBFA;\n",
              "      box-shadow: 0px 1px 2px rgba(60, 64, 67, 0.3), 0px 1px 3px 1px rgba(60, 64, 67, 0.15);\n",
              "      fill: #174EA6;\n",
              "    }\n",
              "\n",
              "    [theme=dark] .colab-df-convert {\n",
              "      background-color: #3B4455;\n",
              "      fill: #D2E3FC;\n",
              "    }\n",
              "\n",
              "    [theme=dark] .colab-df-convert:hover {\n",
              "      background-color: #434B5C;\n",
              "      box-shadow: 0px 1px 3px 1px rgba(0, 0, 0, 0.15);\n",
              "      filter: drop-shadow(0px 1px 2px rgba(0, 0, 0, 0.3));\n",
              "      fill: #FFFFFF;\n",
              "    }\n",
              "  </style>\n",
              "\n",
              "      <script>\n",
              "        const buttonEl =\n",
              "          document.querySelector('#df-3bebeb18-cf16-4278-8dc0-7fed5dad0ba8 button.colab-df-convert');\n",
              "        buttonEl.style.display =\n",
              "          google.colab.kernel.accessAllowed ? 'block' : 'none';\n",
              "\n",
              "        async function convertToInteractive(key) {\n",
              "          const element = document.querySelector('#df-3bebeb18-cf16-4278-8dc0-7fed5dad0ba8');\n",
              "          const dataTable =\n",
              "            await google.colab.kernel.invokeFunction('convertToInteractive',\n",
              "                                                     [key], {});\n",
              "          if (!dataTable) return;\n",
              "\n",
              "          const docLinkHtml = 'Like what you see? Visit the ' +\n",
              "            '<a target=\"_blank\" href=https://colab.research.google.com/notebooks/data_table.ipynb>data table notebook</a>'\n",
              "            + ' to learn more about interactive tables.';\n",
              "          element.innerHTML = '';\n",
              "          dataTable['output_type'] = 'display_data';\n",
              "          await google.colab.output.renderOutput(dataTable, element);\n",
              "          const docLink = document.createElement('div');\n",
              "          docLink.innerHTML = docLinkHtml;\n",
              "          element.appendChild(docLink);\n",
              "        }\n",
              "      </script>\n",
              "    </div>\n",
              "  </div>\n",
              "  "
            ]
          },
          "metadata": {},
          "execution_count": 32
        }
      ],
      "source": [
        "df_RISE_agg"
      ]
    },
    {
      "cell_type": "code",
      "execution_count": null,
      "metadata": {
        "id": "2vzMo3OUBvFm"
      },
      "outputs": [],
      "source": [
        "# convert the data into a long format to merge with expense/revenue data\n",
        "df_SAGE_unstack = df_SAGE.groupby(['LEA', 'school', 'year', 'school_ID', 'LEA_ID', 'subject', 'test'])['proficiency'].mean().unstack('subject').reset_index()\n",
        "df_RISE_unstack = df_RISE.groupby(['LEA', 'school', 'year', 'school_ID', 'LEA_ID', 'subject', 'test'])['proficiency'].mean().unstack('subject').reset_index()"
      ]
    },
    {
      "cell_type": "code",
      "execution_count": null,
      "metadata": {
        "id": "55hg34QcBvFm",
        "colab": {
          "base_uri": "https://localhost:8080/"
        },
        "outputId": "8e7200e3-7d91-4bb3-ac5e-0be0235e92cb"
      },
      "outputs": [
        {
          "output_type": "stream",
          "name": "stderr",
          "text": [
            "<ipython-input-34-42022fc7a805>:2: FutureWarning: The frame.append method is deprecated and will be removed from pandas in a future version. Use pandas.concat instead.\n",
            "  df_prof = df_RISE_unstack.append(df_SAGE_unstack)\n",
            "<ipython-input-34-42022fc7a805>:3: FutureWarning: The frame.append method is deprecated and will be removed from pandas in a future version. Use pandas.concat instead.\n",
            "  df_prof = df_prof.append(df_SAGE_agg)\n",
            "<ipython-input-34-42022fc7a805>:4: FutureWarning: The frame.append method is deprecated and will be removed from pandas in a future version. Use pandas.concat instead.\n",
            "  df_prof = df_prof.append(df_RISE_agg)\n"
          ]
        }
      ],
      "source": [
        "# combine all of the proficiency data together\n",
        "df_prof = df_RISE_unstack.append(df_SAGE_unstack)\n",
        "df_prof = df_prof.append(df_SAGE_agg)\n",
        "df_prof = df_prof.append(df_RISE_agg)"
      ]
    },
    {
      "cell_type": "code",
      "source": [
        "df_prof['stdev'] = df_prof[['MATHEMATICS', 'ENGLISH LANGUAGE ARTS', 'SCIENCE']].std(axis=1)"
      ],
      "metadata": {
        "id": "fE4NUntYcQdb"
      },
      "execution_count": null,
      "outputs": []
    },
    {
      "cell_type": "code",
      "execution_count": null,
      "metadata": {
        "id": "lJ5iQQ5gBvFn",
        "colab": {
          "base_uri": "https://localhost:8080/",
          "height": 519
        },
        "outputId": "8571012a-83ac-40e2-f157-f7fb50af46e5"
      },
      "outputs": [
        {
          "output_type": "execute_result",
          "data": {
            "text/plain": [
              "subject                                     LEA  \\\n",
              "0        ACADEMY FOR MATH ENGINEERING & SCIENCE   \n",
              "1        ACADEMY FOR MATH ENGINEERING & SCIENCE   \n",
              "2                        ADVANTAGE ARTS ACADEMY   \n",
              "3                               ALPINE DISTRICT   \n",
              "4                               ALPINE DISTRICT   \n",
              "..                                          ...   \n",
              "286                              WAYNE DISTRICT   \n",
              "287                              WEBER DISTRICT   \n",
              "288                              WEBER DISTRICT   \n",
              "289              WEILENMANN SCHOOL OF DISCOVERY   \n",
              "290              WEILENMANN SCHOOL OF DISCOVERY   \n",
              "\n",
              "subject                                  school  year school_ID  LEA_ID  test  \\\n",
              "0        ACADEMY FOR MATH ENGINEERING & SCIENCE  2019       700  110575  RISE   \n",
              "1        ACADEMY FOR MATH ENGINEERING & SCIENCE  2021       700  110575  RISE   \n",
              "2                        ADVANTAGE ARTS ACADEMY  2021       01M  186506  RISE   \n",
              "3                          ALPINE ONLINE SCHOOL  2019       299     122  RISE   \n",
              "4                          ALPINE ONLINE SCHOOL  2021       299     122  RISE   \n",
              "..                                          ...   ...       ...     ...   ...   \n",
              "286                              WAYNE DISTRICT  2021        34    1042  RISE   \n",
              "287                              WEBER DISTRICT  2019        35    1050  RISE   \n",
              "288                              WEBER DISTRICT  2021        35    1050  RISE   \n",
              "289              WEILENMANN SCHOOL OF DISCOVERY  2019       100  186157  RISE   \n",
              "290              WEILENMANN SCHOOL OF DISCOVERY  2021       100  186157  RISE   \n",
              "\n",
              "subject  ENGLISH LANGUAGE ARTS  MATHEMATICS   SCIENCE     stdev  \n",
              "0                     0.543900     0.386300       NaN  0.111440  \n",
              "1                     0.678161     0.550000  0.505376  0.089695  \n",
              "2                     0.290780     0.223022  0.337209  0.057425  \n",
              "3                     0.304300     0.355600       NaN  0.036275  \n",
              "4                     0.477124     0.364780  0.583333  0.109291  \n",
              "..                         ...          ...       ...       ...  \n",
              "286                   0.420071     0.406880  0.392804  0.013636  \n",
              "287                   0.285675     0.245945  0.253145  0.021168  \n",
              "288                   0.359681     0.374155  0.378302  0.009776  \n",
              "289                   0.355000     0.288000  0.319700  0.033516  \n",
              "290                   0.429054     0.433898  0.538136  0.061628  \n",
              "\n",
              "[6019 rows x 10 columns]"
            ],
            "text/html": [
              "\n",
              "  <div id=\"df-ac890a1f-ee7b-4b0f-8384-30d82d05592f\">\n",
              "    <div class=\"colab-df-container\">\n",
              "      <div>\n",
              "<style scoped>\n",
              "    .dataframe tbody tr th:only-of-type {\n",
              "        vertical-align: middle;\n",
              "    }\n",
              "\n",
              "    .dataframe tbody tr th {\n",
              "        vertical-align: top;\n",
              "    }\n",
              "\n",
              "    .dataframe thead th {\n",
              "        text-align: right;\n",
              "    }\n",
              "</style>\n",
              "<table border=\"1\" class=\"dataframe\">\n",
              "  <thead>\n",
              "    <tr style=\"text-align: right;\">\n",
              "      <th>subject</th>\n",
              "      <th>LEA</th>\n",
              "      <th>school</th>\n",
              "      <th>year</th>\n",
              "      <th>school_ID</th>\n",
              "      <th>LEA_ID</th>\n",
              "      <th>test</th>\n",
              "      <th>ENGLISH LANGUAGE ARTS</th>\n",
              "      <th>MATHEMATICS</th>\n",
              "      <th>SCIENCE</th>\n",
              "      <th>stdev</th>\n",
              "    </tr>\n",
              "  </thead>\n",
              "  <tbody>\n",
              "    <tr>\n",
              "      <th>0</th>\n",
              "      <td>ACADEMY FOR MATH ENGINEERING &amp; SCIENCE</td>\n",
              "      <td>ACADEMY FOR MATH ENGINEERING &amp; SCIENCE</td>\n",
              "      <td>2019</td>\n",
              "      <td>700</td>\n",
              "      <td>110575</td>\n",
              "      <td>RISE</td>\n",
              "      <td>0.543900</td>\n",
              "      <td>0.386300</td>\n",
              "      <td>NaN</td>\n",
              "      <td>0.111440</td>\n",
              "    </tr>\n",
              "    <tr>\n",
              "      <th>1</th>\n",
              "      <td>ACADEMY FOR MATH ENGINEERING &amp; SCIENCE</td>\n",
              "      <td>ACADEMY FOR MATH ENGINEERING &amp; SCIENCE</td>\n",
              "      <td>2021</td>\n",
              "      <td>700</td>\n",
              "      <td>110575</td>\n",
              "      <td>RISE</td>\n",
              "      <td>0.678161</td>\n",
              "      <td>0.550000</td>\n",
              "      <td>0.505376</td>\n",
              "      <td>0.089695</td>\n",
              "    </tr>\n",
              "    <tr>\n",
              "      <th>2</th>\n",
              "      <td>ADVANTAGE ARTS ACADEMY</td>\n",
              "      <td>ADVANTAGE ARTS ACADEMY</td>\n",
              "      <td>2021</td>\n",
              "      <td>01M</td>\n",
              "      <td>186506</td>\n",
              "      <td>RISE</td>\n",
              "      <td>0.290780</td>\n",
              "      <td>0.223022</td>\n",
              "      <td>0.337209</td>\n",
              "      <td>0.057425</td>\n",
              "    </tr>\n",
              "    <tr>\n",
              "      <th>3</th>\n",
              "      <td>ALPINE DISTRICT</td>\n",
              "      <td>ALPINE ONLINE SCHOOL</td>\n",
              "      <td>2019</td>\n",
              "      <td>299</td>\n",
              "      <td>122</td>\n",
              "      <td>RISE</td>\n",
              "      <td>0.304300</td>\n",
              "      <td>0.355600</td>\n",
              "      <td>NaN</td>\n",
              "      <td>0.036275</td>\n",
              "    </tr>\n",
              "    <tr>\n",
              "      <th>4</th>\n",
              "      <td>ALPINE DISTRICT</td>\n",
              "      <td>ALPINE ONLINE SCHOOL</td>\n",
              "      <td>2021</td>\n",
              "      <td>299</td>\n",
              "      <td>122</td>\n",
              "      <td>RISE</td>\n",
              "      <td>0.477124</td>\n",
              "      <td>0.364780</td>\n",
              "      <td>0.583333</td>\n",
              "      <td>0.109291</td>\n",
              "    </tr>\n",
              "    <tr>\n",
              "      <th>...</th>\n",
              "      <td>...</td>\n",
              "      <td>...</td>\n",
              "      <td>...</td>\n",
              "      <td>...</td>\n",
              "      <td>...</td>\n",
              "      <td>...</td>\n",
              "      <td>...</td>\n",
              "      <td>...</td>\n",
              "      <td>...</td>\n",
              "      <td>...</td>\n",
              "    </tr>\n",
              "    <tr>\n",
              "      <th>286</th>\n",
              "      <td>WAYNE DISTRICT</td>\n",
              "      <td>WAYNE DISTRICT</td>\n",
              "      <td>2021</td>\n",
              "      <td>34</td>\n",
              "      <td>1042</td>\n",
              "      <td>RISE</td>\n",
              "      <td>0.420071</td>\n",
              "      <td>0.406880</td>\n",
              "      <td>0.392804</td>\n",
              "      <td>0.013636</td>\n",
              "    </tr>\n",
              "    <tr>\n",
              "      <th>287</th>\n",
              "      <td>WEBER DISTRICT</td>\n",
              "      <td>WEBER DISTRICT</td>\n",
              "      <td>2019</td>\n",
              "      <td>35</td>\n",
              "      <td>1050</td>\n",
              "      <td>RISE</td>\n",
              "      <td>0.285675</td>\n",
              "      <td>0.245945</td>\n",
              "      <td>0.253145</td>\n",
              "      <td>0.021168</td>\n",
              "    </tr>\n",
              "    <tr>\n",
              "      <th>288</th>\n",
              "      <td>WEBER DISTRICT</td>\n",
              "      <td>WEBER DISTRICT</td>\n",
              "      <td>2021</td>\n",
              "      <td>35</td>\n",
              "      <td>1050</td>\n",
              "      <td>RISE</td>\n",
              "      <td>0.359681</td>\n",
              "      <td>0.374155</td>\n",
              "      <td>0.378302</td>\n",
              "      <td>0.009776</td>\n",
              "    </tr>\n",
              "    <tr>\n",
              "      <th>289</th>\n",
              "      <td>WEILENMANN SCHOOL OF DISCOVERY</td>\n",
              "      <td>WEILENMANN SCHOOL OF DISCOVERY</td>\n",
              "      <td>2019</td>\n",
              "      <td>100</td>\n",
              "      <td>186157</td>\n",
              "      <td>RISE</td>\n",
              "      <td>0.355000</td>\n",
              "      <td>0.288000</td>\n",
              "      <td>0.319700</td>\n",
              "      <td>0.033516</td>\n",
              "    </tr>\n",
              "    <tr>\n",
              "      <th>290</th>\n",
              "      <td>WEILENMANN SCHOOL OF DISCOVERY</td>\n",
              "      <td>WEILENMANN SCHOOL OF DISCOVERY</td>\n",
              "      <td>2021</td>\n",
              "      <td>100</td>\n",
              "      <td>186157</td>\n",
              "      <td>RISE</td>\n",
              "      <td>0.429054</td>\n",
              "      <td>0.433898</td>\n",
              "      <td>0.538136</td>\n",
              "      <td>0.061628</td>\n",
              "    </tr>\n",
              "  </tbody>\n",
              "</table>\n",
              "<p>6019 rows × 10 columns</p>\n",
              "</div>\n",
              "      <button class=\"colab-df-convert\" onclick=\"convertToInteractive('df-ac890a1f-ee7b-4b0f-8384-30d82d05592f')\"\n",
              "              title=\"Convert this dataframe to an interactive table.\"\n",
              "              style=\"display:none;\">\n",
              "        \n",
              "  <svg xmlns=\"http://www.w3.org/2000/svg\" height=\"24px\"viewBox=\"0 0 24 24\"\n",
              "       width=\"24px\">\n",
              "    <path d=\"M0 0h24v24H0V0z\" fill=\"none\"/>\n",
              "    <path d=\"M18.56 5.44l.94 2.06.94-2.06 2.06-.94-2.06-.94-.94-2.06-.94 2.06-2.06.94zm-11 1L8.5 8.5l.94-2.06 2.06-.94-2.06-.94L8.5 2.5l-.94 2.06-2.06.94zm10 10l.94 2.06.94-2.06 2.06-.94-2.06-.94-.94-2.06-.94 2.06-2.06.94z\"/><path d=\"M17.41 7.96l-1.37-1.37c-.4-.4-.92-.59-1.43-.59-.52 0-1.04.2-1.43.59L10.3 9.45l-7.72 7.72c-.78.78-.78 2.05 0 2.83L4 21.41c.39.39.9.59 1.41.59.51 0 1.02-.2 1.41-.59l7.78-7.78 2.81-2.81c.8-.78.8-2.07 0-2.86zM5.41 20L4 18.59l7.72-7.72 1.47 1.35L5.41 20z\"/>\n",
              "  </svg>\n",
              "      </button>\n",
              "      \n",
              "  <style>\n",
              "    .colab-df-container {\n",
              "      display:flex;\n",
              "      flex-wrap:wrap;\n",
              "      gap: 12px;\n",
              "    }\n",
              "\n",
              "    .colab-df-convert {\n",
              "      background-color: #E8F0FE;\n",
              "      border: none;\n",
              "      border-radius: 50%;\n",
              "      cursor: pointer;\n",
              "      display: none;\n",
              "      fill: #1967D2;\n",
              "      height: 32px;\n",
              "      padding: 0 0 0 0;\n",
              "      width: 32px;\n",
              "    }\n",
              "\n",
              "    .colab-df-convert:hover {\n",
              "      background-color: #E2EBFA;\n",
              "      box-shadow: 0px 1px 2px rgba(60, 64, 67, 0.3), 0px 1px 3px 1px rgba(60, 64, 67, 0.15);\n",
              "      fill: #174EA6;\n",
              "    }\n",
              "\n",
              "    [theme=dark] .colab-df-convert {\n",
              "      background-color: #3B4455;\n",
              "      fill: #D2E3FC;\n",
              "    }\n",
              "\n",
              "    [theme=dark] .colab-df-convert:hover {\n",
              "      background-color: #434B5C;\n",
              "      box-shadow: 0px 1px 3px 1px rgba(0, 0, 0, 0.15);\n",
              "      filter: drop-shadow(0px 1px 2px rgba(0, 0, 0, 0.3));\n",
              "      fill: #FFFFFF;\n",
              "    }\n",
              "  </style>\n",
              "\n",
              "      <script>\n",
              "        const buttonEl =\n",
              "          document.querySelector('#df-ac890a1f-ee7b-4b0f-8384-30d82d05592f button.colab-df-convert');\n",
              "        buttonEl.style.display =\n",
              "          google.colab.kernel.accessAllowed ? 'block' : 'none';\n",
              "\n",
              "        async function convertToInteractive(key) {\n",
              "          const element = document.querySelector('#df-ac890a1f-ee7b-4b0f-8384-30d82d05592f');\n",
              "          const dataTable =\n",
              "            await google.colab.kernel.invokeFunction('convertToInteractive',\n",
              "                                                     [key], {});\n",
              "          if (!dataTable) return;\n",
              "\n",
              "          const docLinkHtml = 'Like what you see? Visit the ' +\n",
              "            '<a target=\"_blank\" href=https://colab.research.google.com/notebooks/data_table.ipynb>data table notebook</a>'\n",
              "            + ' to learn more about interactive tables.';\n",
              "          element.innerHTML = '';\n",
              "          dataTable['output_type'] = 'display_data';\n",
              "          await google.colab.output.renderOutput(dataTable, element);\n",
              "          const docLink = document.createElement('div');\n",
              "          docLink.innerHTML = docLinkHtml;\n",
              "          element.appendChild(docLink);\n",
              "        }\n",
              "      </script>\n",
              "    </div>\n",
              "  </div>\n",
              "  "
            ]
          },
          "metadata": {},
          "execution_count": 36
        }
      ],
      "source": [
        "df_prof"
      ]
    },
    {
      "cell_type": "markdown",
      "source": [
        "## We lost the demographics database. We are currently waiting to see if Grayson has the demographic.csv in his possesion. If he doesn't we will have to create a new one."
      ],
      "metadata": {
        "id": "qC8CyPU_4-Bf"
      }
    },
    {
      "cell_type": "code",
      "source": [
        "# read in the demographic data and store as pandas dataframe\n",
        "df_demo = pd.read_csv('/content/drive/MyDrive/Clear Learning Partners/Database/royce/demographic.csv')\n",
        "\n",
        "# convert datatypes\n",
        "conversions = {'year': int, 'type': str, 'LEA': str, 'school': str, 'k_12': int, 'k': int, 'grade_1': int, 'grade_2': int, 'grade_3': int, 'grade_4': int, 'grade_5': int, 'grade_6': int,\n",
        "               'grade_7': int, 'grade_8': int, 'grade_9': int, 'grade_10': int, 'grade_11': int, 'grade_12': int, 'female': int, 'male': int, 'american_indian': int,\n",
        "               'afam_black': int, 'asian': int, 'hispanic': int, 'multi_race': int, 'pacific_islander': int, 'white': int, 'econ_disadvantaged': int, 'ELL': int, 'disabled': int,\n",
        "               'homeless': int, 'preschool': int}\n",
        "df_demo = df_demo.astype(conversions)\n",
        "\n",
        "# convert each string into ALL CAPS to prevent issues with key/value mapping\n",
        "df_demo = df_demo.applymap(lambda s: s.upper() if type(s) == str else s)\n",
        "\n",
        "df_demo['school_ID'] = df_demo['school']\n",
        "df_demo['school_ID'] = df_demo['school'].map(df_school_keys)\n",
        "\n",
        "df_demo['LEA_ID'] = df_demo['LEA']\n",
        "df_demo['LEA_ID'] = df_demo['LEA'].map(df_LEA_keys)\n",
        "\n",
        "df_demo.head()"
      ],
      "metadata": {
        "id": "3B6hgEsSlqLP"
      },
      "execution_count": null,
      "outputs": []
    },
    {
      "cell_type": "code",
      "source": [
        "df_demo_agg = df_demo.drop('school', axis=1).groupby(['LEA', 'year', 'LEA_ID', 'type']).sum().reset_index()\n",
        "df_demo_agg = df_demo_agg[df_demo_agg['LEA'].str.contains('DISTRICT')]\n",
        "df_demo_agg['school'] = df_demo_agg['LEA']\n",
        "df_demo_agg['school_ID'] =  df_demo_agg['school'].map(df_school_keys)"
      ],
      "metadata": {
        "id": "TJzYgfCxs4R1"
      },
      "execution_count": null,
      "outputs": []
    },
    {
      "cell_type": "code",
      "source": [
        "df_demo_agg"
      ],
      "metadata": {
        "id": "HepL8dr7xDhv"
      },
      "execution_count": null,
      "outputs": []
    },
    {
      "cell_type": "code",
      "source": [
        "df_demo = df_demo.append(df_demo_agg)\n",
        "df_demo = df_demo.round(0)"
      ],
      "metadata": {
        "id": "lsUl4lqut-sk"
      },
      "execution_count": null,
      "outputs": []
    },
    {
      "cell_type": "code",
      "source": [
        "df_demo.drop(['k', 'grade_2', 'grade_3', 'grade_4', 'grade_5', 'grade_6', 'grade_7', 'grade_9', 'grade_10', 'grade_11', 'homeless', 'preschool', 'female'], axis=1, inplace=True)"
      ],
      "metadata": {
        "id": "WslWloUNXd5o"
      },
      "execution_count": null,
      "outputs": []
    },
    {
      "cell_type": "code",
      "source": [
        "pct_vars = ['grade_1', 'grade_8', 'grade_12', 'male', 'american_indian', 'afam_black',\n",
        "            'asian', 'hispanic', 'pacific_islander', 'white', 'econ_disadvantaged',\n",
        "            'ELL', 'disabled']\n",
        "for col in pct_vars:\n",
        "  df_demo[col] = df_demo[col].astype(float)\n",
        "  df_demo[col] = df_demo[col]/df_demo['k_12']"
      ],
      "metadata": {
        "id": "qyXDzi70YJlp"
      },
      "execution_count": null,
      "outputs": []
    },
    {
      "cell_type": "code",
      "source": [
        "df_demo"
      ],
      "metadata": {
        "id": "TTxIDr5twBvq"
      },
      "execution_count": null,
      "outputs": []
    },
    {
      "cell_type": "code",
      "source": [
        "print(df_demo['school_ID'].isnull().sum() * 100 / len(df_demo['school_ID']))\n",
        "print(df_demo['LEA_ID'].isnull().sum() * 100 / len(df_demo['LEA_ID']))"
      ],
      "metadata": {
        "id": "GvfG_clZpbY6"
      },
      "execution_count": null,
      "outputs": []
    },
    {
      "cell_type": "code",
      "execution_count": null,
      "metadata": {
        "id": "4KspM3SuBvFn"
      },
      "outputs": [],
      "source": [
        "# merge the proficiency and financial data together my matching an observation in the financial dataset [LEA_ID, school_ID, year]\n",
        "# with the same [LEA_ID, school_ID, year] in the proficiency dataset\n",
        "df = df.merge(df_prof, how='left', on=['LEA_ID', 'school_ID', 'year'])"
      ]
    },
    {
      "cell_type": "code",
      "source": [
        "df = df.merge(df_demo, how='left', on=['LEA_ID', 'school_ID', 'year'])"
      ],
      "metadata": {
        "id": "kMrSpM2XplKe"
      },
      "execution_count": null,
      "outputs": []
    },
    {
      "cell_type": "code",
      "source": [
        "df['amt/k12'] = (df['amt']/df['k_12']).round(2)"
      ],
      "metadata": {
        "id": "qewuX59dqTsp"
      },
      "execution_count": null,
      "outputs": []
    },
    {
      "cell_type": "code",
      "execution_count": null,
      "metadata": {
        "id": "DAbsGBO4BvFn"
      },
      "outputs": [],
      "source": [
        "df"
      ]
    },
    {
      "cell_type": "code",
      "source": [],
      "metadata": {
        "id": "6-RS5EpR3W3x"
      },
      "execution_count": null,
      "outputs": []
    },
    {
      "cell_type": "code",
      "source": [
        "df[df['amt']>0].drop(['LEA_x', 'school_num', 'school_x', 'LEA_y', 'school_y', 'function', 'fund', 'type', 'stdev', 'LEA', 'school'], axis=1).groupby(['LEA_ID', 'school_ID']).head()"
      ],
      "metadata": {
        "id": "ljPWcg2JxSrO"
      },
      "execution_count": null,
      "outputs": []
    },
    {
      "cell_type": "code",
      "source": [
        "# create 'proficiency' column that represents the average proficiency across all subjects for any school/LEA\n",
        "df['proficiency'] = df[['MATHEMATICS', 'SCIENCE', 'ENGLISH LANGUAGE ARTS']].mean(axis=1)"
      ],
      "metadata": {
        "id": "lJITg6v2fVEA"
      },
      "execution_count": null,
      "outputs": []
    },
    {
      "cell_type": "code",
      "source": [
        "# long to wide format transformation unstacking funds\n",
        "df_stack = df.groupby(['school_ID', 'program',\n",
        "       'year', 'revenue', 'LEA_ID'])['amt/k12'].sum().unstack('program').reset_index()"
      ],
      "metadata": {
        "id": "fokLyGO_faJB"
      },
      "execution_count": null,
      "outputs": []
    },
    {
      "cell_type": "code",
      "source": [
        "# adding back demographic variables to wide format dataframe\n",
        "df_merge = df_stack.merge(df.drop(['program', 'amt', 'amt/k12', 'LEA', 'school'], axis=1), how='left', on=['school_ID', 'year', 'revenue', 'LEA_ID'])"
      ],
      "metadata": {
        "id": "WhRrP5VwfeNr"
      },
      "execution_count": null,
      "outputs": []
    },
    {
      "cell_type": "code",
      "source": [
        "# removing observations without proficiency scores and filling rest of missing data with 0s\n",
        "df_merge = df_merge[df_merge['proficiency'].notna()]\n",
        "df_merge = df_merge.fillna(0)"
      ],
      "metadata": {
        "id": "HQX068McfgnG"
      },
      "execution_count": null,
      "outputs": []
    },
    {
      "cell_type": "code",
      "source": [
        "df_merge.head()"
      ],
      "metadata": {
        "id": "zue2yLl7G3SI"
      },
      "execution_count": null,
      "outputs": []
    },
    {
      "cell_type": "code",
      "execution_count": null,
      "metadata": {
        "id": "Hu1yllLzBvFo"
      },
      "outputs": [],
      "source": [
        "# export the data to a csv\n",
        "df_merge.to_csv(\"/content/drive/MyDrive/Clear Learning Partners/Database/royce/final.csv\")"
      ]
    }
  ]
}